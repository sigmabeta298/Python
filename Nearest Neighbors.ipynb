{
 "cells": [
  {
   "cell_type": "markdown",
   "metadata": {},
   "source": [
    "# Nearest Neighbors of a  residue\n",
    "### Author:\n",
    "Syamanthaka Balakrishnan(SMBK)\n",
    "### Created: May 2017\n",
    "### Last modified: May 2017\n",
    "\n",
    "\n",
    "## Aim:\n",
    "To see which residues get affected if a given residue is mutated in a molecule. Hypothesis is that a position which could potentially affect a large group of primary and secondary positions, may tent to unstabilize the variant which is being mutated. Alternately, it may affect the performance of the variant.\n",
    "\n",
    "## Description:\n",
    "This is a very simple notebook that gives the nearest neighbors of a given residue of a molecule upto a radius of n Angstrom. Currently 2 levels of neighbors are extracted. The position which affects the maximum number of level 1 and level 2 neighbors are identified. It is being attempted to verify if these could potentially be detremental to the overall stability or performance of the variant and hence may be avoided from being changed. \n",
    "Contact @VASP for inspiration on the concept used here.\n",
    "\n",
    "## User inputs:\n",
    "* pdb file of the molecule of interest\n",
    "* One or more residues which need to be studied\n",
    "* Distance in Angstrom which is the radius of study\n",
    "\n",
    "## Output format:\n",
    "* A tabular format with column of the residue that was searched and it's neighbors. The neighbor list is in the format of 3 letter code and position, separated by a '-'. Eg. LEU-3 means Leusine in position 3\n",
    "\n",
    "## Steps:\n",
    "* Enter the 3 inputs mentioned above, in the right cells.\n",
    "* Run all cells\n",
    "* Use output table as you deem fit.\n",
    "* Suggested extra step : credit author when using this notebook\n",
    "\n",
    "\n",
    "### Import libraries"
   ]
  },
  {
   "cell_type": "code",
   "execution_count": null,
   "metadata": {},
   "outputs": [],
   "source": [
    "## Necessary imports\n",
    "from Bio.PDB import *\n",
    "import pandas as pd\n",
    "import warnings\n",
    "warnings.filterwarnings('ignore')"
   ]
  },
  {
   "cell_type": "markdown",
   "metadata": {},
   "source": [
    "### Parse the structure\n",
    "User input required here. Enter pdb file of interest"
   ]
  },
  {
   "cell_type": "code",
   "execution_count": null,
   "metadata": {},
   "outputs": [],
   "source": [
    "## Create parser object\n",
    "parser = PDBParser()\n",
    "## Load the structure\n",
    "# The first word in quotes is a nickname you give\n",
    "# The second is the pdb file to be used. It needs to be uploaded to your notebook directory before\n",
    "structure = parser.get_structure('Amy', '1bli.pdb') \n",
    "## Selecting the first model, chain A (for most cases)\n",
    "chain = structure[0]['A'] #A instead of ' '\n"
   ]
  },
  {
   "cell_type": "markdown",
   "metadata": {},
   "source": [
    "### The required functions"
   ]
  },
  {
   "cell_type": "code",
   "execution_count": null,
   "metadata": {},
   "outputs": [],
   "source": [
    "## Get the first level neighbors\n",
    "def get_neighbors(residue_pos, distance):\n",
    "    try:\n",
    "        center_residues = chain[residue_pos]\n",
    "    except KeyError:\n",
    "        return(\"na\", 0,[])\n",
    "    center_atoms = Selection.unfold_entities(center_residues, 'A')\n",
    "\n",
    "    atom_list = [atom for atom in structure.get_atoms() if atom.name == 'CA']\n",
    "    ns = NeighborSearch(atom_list) \n",
    "    \n",
    "    nearby_residues = {res for center_atom in center_atoms\n",
    "                   for res in ns.search(center_atom.coord, 4, 'R')}\n",
    "   \n",
    "    \n",
    "    neighbor_list = [res.resname + \"-\" + str(res.id[1]) for res in nearby_residues if res.id[1] != residue_pos]\n",
    "    neighbor_ids = [res.id[1] for res in nearby_residues]\n",
    "    neighbor_ids.remove(residue_pos)\n",
    "    neighbor_str = ','.join(map(str, neighbor_list))\n",
    "    #print(neighbor_str) \n",
    "    return(neighbor_list, len(neighbor_list), neighbor_ids)\n",
    "\n",
    "\n",
    "## Look up second level neighbors\n",
    "def find_secondary(prim_list):\n",
    "    secondary_lst = []\n",
    "  \n",
    "    for i in prim_list:\n",
    "        try:\n",
    "            the_neighs = df_primary.loc[df_primary['Search_Residue'] == i, 'Immediate_Neighbors'].item()\n",
    "            secondary_lst.extend(the_neighs)\n",
    "        except:\n",
    "            return([\"na\"])\n",
    "    secondary = list(set(secondary_lst))\n",
    "    return(secondary)\n",
    "    "
   ]
  },
  {
   "cell_type": "markdown",
   "metadata": {},
   "source": [
    "### The results! \n",
    "User input required here - residues to be searched and distance"
   ]
  },
  {
   "cell_type": "code",
   "execution_count": null,
   "metadata": {},
   "outputs": [],
   "source": [
    "## Use the first line if you only want to check for specific positions. Comment out the second line in that case\n",
    "#all_residues = [3,5] # With the square brackets enter the position(s) of interest separated by ','\n",
    "all_residues = [res.id[1] for res in Selection.unfold_entities(structure, 'R')]\n",
    "radius = 4 # Enter distance in Angrstrom - a single number\n",
    "\n",
    "\n",
    "imm_neighbors = []\n",
    "imm_neighbor_count = []\n",
    "imm_neighbor_list = []\n",
    "\n",
    "for res in all_residues:\n",
    "    neighbor_temp = get_neighbors(res, radius)\n",
    "    if neighbor_temp == \"na\":\n",
    "        next\n",
    "    neighbor_res = neighbor_temp[0]\n",
    "    neighbor_len = neighbor_temp[1]\n",
    "    \n",
    "    imm_neighbors.append(neighbor_res)\n",
    "    imm_neighbor_count.append(neighbor_len)\n",
    "    imm_neighbor_list.append(neighbor_temp[2])\n",
    "    \n",
    "df = pd.DataFrame()\n",
    "df['Search_Residue'] = all_residues\n",
    "df['Immediate_Neighbors'] = imm_neighbors\n",
    "df['Imm_neighbor_count'] = imm_neighbor_count\n",
    "df['Primary_list'] = imm_neighbor_list\n",
    "\n",
    "df_primary = df[df.Imm_neighbor_count != 0] # Filter out ones which have neighbors\n",
    "\n",
    "## Lookup the secondary neighbors from created data frame \n",
    "df_primary['Secondary_Neighbors'] = df_primary.apply(lambda row: find_secondary(row['Primary_list']), axis=1)\n",
    "df_primary['Secondary_Neighbors_count'] = df_primary.apply(lambda row: len(row['Secondary_Neighbors']), axis=1)\n",
    "\n",
    "del df_primary['Primary_list'] #Removing unwanted columns\n",
    "df_primary"
   ]
  },
  {
   "cell_type": "markdown",
   "metadata": {},
   "source": [
    "### Report"
   ]
  },
  {
   "cell_type": "code",
   "execution_count": null,
   "metadata": {},
   "outputs": [],
   "source": [
    "# Count of max number of immediate neighbors affected\n",
    "max_imm_neigh = df_primary['Imm_neighbor_count'].max()\n",
    "\n",
    "imm_affected = df_primary[df_primary['Imm_neighbor_count'] == max_imm_neigh]\n",
    "\n",
    "print(str(max_imm_neigh) + \" primary positions will be affected by changes to position(s) below\")\n",
    "imm_affected\n"
   ]
  },
  {
   "cell_type": "code",
   "execution_count": null,
   "metadata": {},
   "outputs": [],
   "source": [
    "# Count of max number of secondary neighbors affected\n",
    "max_sec_neigh = df_primary['Secondary_Neighbors_count'].max()\n",
    "\n",
    "sec_affected = df_primary[df_primary['Secondary_Neighbors_count'] == max_sec_neigh]\n",
    "print(str(max_sec_neigh) + \" secondary positions will be affected by changes to position(s) below\")\n",
    "sec_affected"
   ]
  },
  {
   "cell_type": "code",
   "execution_count": null,
   "metadata": {},
   "outputs": [],
   "source": [
    "## Save to excel\n",
    "df_primary.to_excel('Nearest_neighbors.xlsx', sheet_name = 'Report')\n",
    "## This file would be available in your notebook directory on jupyter. "
   ]
  }
 ],
 "metadata": {
  "kernelspec": {
   "display_name": "Python 3",
   "language": "python",
   "name": "python3"
  },
  "language_info": {
   "codemirror_mode": {
    "name": "ipython",
    "version": 3
   },
   "file_extension": ".py",
   "mimetype": "text/x-python",
   "name": "python",
   "nbconvert_exporter": "python",
   "pygments_lexer": "ipython3",
   "version": "3.5.5"
  }
 },
 "nbformat": 4,
 "nbformat_minor": 2
}
