{
 "cells": [
  {
   "cell_type": "markdown",
   "metadata": {},
   "source": [
    "### Book and Bill Exploratory Data Analysis\n",
    "\n",
    "Author: Syamanthaka Balakrishnan\n",
    "\n",
    "Created: June 2019\n",
    "\n",
    "------------------------------------------------------------------------------------------------\n",
    "\n",
    "#### Notes\n",
    "* The main input source is One Order Book data for Ultra Sound. \n",
    "* Extract the closed orders and first tag them as BnB or funnel.\n",
    "* Map description with materiarl master information to tag as system or upgrade and category\n",
    "* Map and convert local currency to USD using AOP info\n",
    "* Report percentage of orders which are BnB\n",
    "* Report by product\n",
    "* Report by Quarter\n",
    "\n",
    "## Section 1 - Classify book and billed\n",
    "### 1.1 Data preparation\n",
    "#### Import libraries required"
   ]
  },
  {
   "cell_type": "code",
   "execution_count": 1,
   "metadata": {},
   "outputs": [],
   "source": [
    "import pandas as pd\n",
    "import numpy as np\n",
    "from datetime import datetime as dt\n",
    "import matplotlib.pyplot as plt\n",
    "from matplotlib_venn import venn2\n",
    "from matplotlib.ticker import PercentFormatter"
   ]
  },
  {
   "cell_type": "markdown",
   "metadata": {},
   "source": [
    "#### Read input, get closed orders"
   ]
  },
  {
   "cell_type": "code",
   "execution_count": 2,
   "metadata": {},
   "outputs": [
    {
     "data": {
      "text/html": [
       "<div>\n",
       "<style scoped>\n",
       "    .dataframe tbody tr th:only-of-type {\n",
       "        vertical-align: middle;\n",
       "    }\n",
       "\n",
       "    .dataframe tbody tr th {\n",
       "        vertical-align: top;\n",
       "    }\n",
       "\n",
       "    .dataframe thead th {\n",
       "        text-align: right;\n",
       "    }\n",
       "</style>\n",
       "<table border=\"1\" class=\"dataframe\">\n",
       "  <thead>\n",
       "    <tr style=\"text-align: right;\">\n",
       "      <th></th>\n",
       "      <th>BMC Market</th>\n",
       "      <th>Comp_code_Sales</th>\n",
       "      <th>Country</th>\n",
       "      <th>Sold-to_party</th>\n",
       "      <th>Description</th>\n",
       "      <th>Sales order</th>\n",
       "      <th>First Fin Bill Date</th>\n",
       "      <th>Local Currency</th>\n",
       "      <th>Creation date</th>\n",
       "      <th>Total OIT Value (DC)</th>\n",
       "    </tr>\n",
       "  </thead>\n",
       "  <tbody>\n",
       "    <tr>\n",
       "      <th>0</th>\n",
       "      <td>Africa</td>\n",
       "      <td>H0_EG90</td>\n",
       "      <td>EGYPT LLC</td>\n",
       "      <td>???? ????? ????????</td>\n",
       "      <td>AFFINITI 50 ULTRASOUND SYSTEM</td>\n",
       "      <td>H0_6600378541</td>\n",
       "      <td>5/2/2018</td>\n",
       "      <td>USD</td>\n",
       "      <td>1/31/2018</td>\n",
       "      <td>48000</td>\n",
       "    </tr>\n",
       "    <tr>\n",
       "      <th>2</th>\n",
       "      <td>Africa</td>\n",
       "      <td>H0_ZA91</td>\n",
       "      <td>SOUTH AFRICA</td>\n",
       "      <td>Mediclinic Bloemfontein</td>\n",
       "      <td>CLEARVUE 550 ULTRASOUND SYSTEM</td>\n",
       "      <td>H0_6600376487</td>\n",
       "      <td>3/28/2018</td>\n",
       "      <td>ZAR</td>\n",
       "      <td>12/7/2017</td>\n",
       "      <td>-0.01</td>\n",
       "    </tr>\n",
       "    <tr>\n",
       "      <th>4</th>\n",
       "      <td>Africa</td>\n",
       "      <td>H0_ZA91</td>\n",
       "      <td>SOUTH AFRICA</td>\n",
       "      <td>Life Healthcare Group t/a Rosepark</td>\n",
       "      <td>AFFINITI 70 UPGRADE</td>\n",
       "      <td>H0_6600376874</td>\n",
       "      <td>3/29/2018</td>\n",
       "      <td>ZAR</td>\n",
       "      <td>1/22/2018</td>\n",
       "      <td>196240</td>\n",
       "    </tr>\n",
       "    <tr>\n",
       "      <th>5</th>\n",
       "      <td>Africa</td>\n",
       "      <td>H0_ZA91</td>\n",
       "      <td>SOUTH AFRICA</td>\n",
       "      <td>Life Healthcare Group t/a Rosepark</td>\n",
       "      <td>CLEARVUE 650 ULTRASOUND SYSTEM</td>\n",
       "      <td>H0_6600380813</td>\n",
       "      <td>3/29/2018</td>\n",
       "      <td>ZAR</td>\n",
       "      <td>1/29/2018</td>\n",
       "      <td>278000</td>\n",
       "    </tr>\n",
       "    <tr>\n",
       "      <th>7</th>\n",
       "      <td>Africa</td>\n",
       "      <td>H0_ZA91</td>\n",
       "      <td>SOUTH AFRICA</td>\n",
       "      <td>Netcare St. Anne's Hospital</td>\n",
       "      <td>QLAB</td>\n",
       "      <td>H0_6600376873</td>\n",
       "      <td>2/28/2018</td>\n",
       "      <td>ZAR</td>\n",
       "      <td>1/22/2018</td>\n",
       "      <td>23460</td>\n",
       "    </tr>\n",
       "  </tbody>\n",
       "</table>\n",
       "</div>"
      ],
      "text/plain": [
       "  BMC Market Comp_code_Sales       Country  \\\n",
       "0     Africa         H0_EG90     EGYPT LLC   \n",
       "2     Africa         H0_ZA91  SOUTH AFRICA   \n",
       "4     Africa         H0_ZA91  SOUTH AFRICA   \n",
       "5     Africa         H0_ZA91  SOUTH AFRICA   \n",
       "7     Africa         H0_ZA91  SOUTH AFRICA   \n",
       "\n",
       "                        Sold-to_party                     Description  \\\n",
       "0                 ???? ????? ????????   AFFINITI 50 ULTRASOUND SYSTEM   \n",
       "2             Mediclinic Bloemfontein  CLEARVUE 550 ULTRASOUND SYSTEM   \n",
       "4  Life Healthcare Group t/a Rosepark             AFFINITI 70 UPGRADE   \n",
       "5  Life Healthcare Group t/a Rosepark  CLEARVUE 650 ULTRASOUND SYSTEM   \n",
       "7         Netcare St. Anne's Hospital                            QLAB   \n",
       "\n",
       "     Sales order First Fin Bill Date Local Currency Creation date  \\\n",
       "0  H0_6600378541            5/2/2018            USD     1/31/2018   \n",
       "2  H0_6600376487           3/28/2018            ZAR     12/7/2017   \n",
       "4  H0_6600376874           3/29/2018            ZAR     1/22/2018   \n",
       "5  H0_6600380813           3/29/2018            ZAR     1/29/2018   \n",
       "7  H0_6600376873           2/28/2018            ZAR     1/22/2018   \n",
       "\n",
       "  Total OIT Value (DC)  \n",
       "0                48000  \n",
       "2                -0.01  \n",
       "4               196240  \n",
       "5               278000  \n",
       "7                23460  "
      ]
     },
     "execution_count": 2,
     "metadata": {},
     "output_type": "execute_result"
    }
   ],
   "source": [
    "sap_df = pd.read_csv(\"OOB_cleaned_1819.csv\", encoding='iso-8859-1', low_memory=False)\n",
    "sap_df.rename(columns=lambda x: x.strip(), inplace=True)\n",
    "sap_df = sap_df[['BMC Market', 'Comp_code_Sales', 'Country', 'Sold-to_party', 'Description', 'Sales order', 'First Fin Bill Date',\n",
    "                 'Local Currency', 'Creation date', 'Total OIT Value (DC)']]\n",
    "sap_df = sap_df[sap_df['First Fin Bill Date'] != \"#\"] \n",
    "sap_df.head()"
   ]
  },
  {
   "cell_type": "markdown",
   "metadata": {},
   "source": [
    "#### Ignoring ambiguous currencies for now"
   ]
  },
  {
   "cell_type": "code",
   "execution_count": 3,
   "metadata": {},
   "outputs": [
    {
     "name": "stdout",
     "output_type": "stream",
     "text": [
      "Rows which have ambigous currency 2599\n",
      "Total rows in data set 72349\n",
      "Rows after ambiguous currency cleanup 69750\n"
     ]
    }
   ],
   "source": [
    "## More work arounds for now\n",
    "print(\"Rows which have ambigous currency \" + str(len(sap_df[sap_df['Local Currency'] == \"#\"])))\n",
    "print(\"Total rows in data set \" + str(len(sap_df)))\n",
    "sap_df = sap_df[sap_df['Local Currency'] != \"#\"]\n",
    "print(\"Rows after ambiguous currency cleanup \" + str(len(sap_df)))"
   ]
  },
  {
   "cell_type": "code",
   "execution_count": null,
   "metadata": {},
   "outputs": [],
   "source": [
    "sap_df['Local Currency'].unique()"
   ]
  },
  {
   "cell_type": "markdown",
   "metadata": {},
   "source": [
    "#### Collection of functions required"
   ]
  },
  {
   "cell_type": "code",
   "execution_count": 4,
   "metadata": {},
   "outputs": [],
   "source": [
    "## Function to check if for given year, order creation and billing date are in same quarter, tag it as BnB.\n",
    "def check_quarter(row):\n",
    "    order_create = row['Creation date']\n",
    "    billing = row['First Fin Bill Date']\n",
    "    \n",
    "    order_create_date = dt.strptime(order_create, '%m/%d/%Y').date()\n",
    "    billing_date = dt.strptime(billing, '%m/%d/%Y').date()\n",
    "    \n",
    "    ord_yr = order_create_date.year\n",
    "    bill_yr = billing_date.year\n",
    "    \n",
    "    ord_mnt = order_create_date.month\n",
    "    bill_mnt = billing_date.month\n",
    "    \n",
    "    ord_q = (ord_mnt - 1)//3 + 1\n",
    "    bill_q = (bill_mnt - 1)//3 + 1\n",
    "    \n",
    "    bnb_flag = \"BnB\" if ((ord_yr == bill_yr) & (ord_q == bill_q)) else \"Non_BnB\"  \n",
    "    return (bnb_flag)\n"
   ]
  },
  {
   "cell_type": "markdown",
   "metadata": {},
   "source": [
    "#### Classifying each row as BnB or Non_BnB"
   ]
  },
  {
   "cell_type": "code",
   "execution_count": 5,
   "metadata": {},
   "outputs": [
    {
     "data": {
      "text/html": [
       "<div>\n",
       "<style scoped>\n",
       "    .dataframe tbody tr th:only-of-type {\n",
       "        vertical-align: middle;\n",
       "    }\n",
       "\n",
       "    .dataframe tbody tr th {\n",
       "        vertical-align: top;\n",
       "    }\n",
       "\n",
       "    .dataframe thead th {\n",
       "        text-align: right;\n",
       "    }\n",
       "</style>\n",
       "<table border=\"1\" class=\"dataframe\">\n",
       "  <thead>\n",
       "    <tr style=\"text-align: right;\">\n",
       "      <th></th>\n",
       "      <th>BMC Market</th>\n",
       "      <th>Comp_code_Sales</th>\n",
       "      <th>Country</th>\n",
       "      <th>Sold-to_party</th>\n",
       "      <th>Description</th>\n",
       "      <th>Sales order</th>\n",
       "      <th>First Fin Bill Date</th>\n",
       "      <th>Local Currency</th>\n",
       "      <th>Creation date</th>\n",
       "      <th>Total OIT Value (DC)</th>\n",
       "      <th>Bnb_flag</th>\n",
       "    </tr>\n",
       "  </thead>\n",
       "  <tbody>\n",
       "    <tr>\n",
       "      <th>0</th>\n",
       "      <td>Africa</td>\n",
       "      <td>H0_EG90</td>\n",
       "      <td>EGYPT LLC</td>\n",
       "      <td>???? ????? ????????</td>\n",
       "      <td>AFFINITI 50 ULTRASOUND SYSTEM</td>\n",
       "      <td>H0_6600378541</td>\n",
       "      <td>5/2/2018</td>\n",
       "      <td>USD</td>\n",
       "      <td>1/31/2018</td>\n",
       "      <td>48000</td>\n",
       "      <td>Non_BnB</td>\n",
       "    </tr>\n",
       "    <tr>\n",
       "      <th>2</th>\n",
       "      <td>Africa</td>\n",
       "      <td>H0_ZA91</td>\n",
       "      <td>SOUTH AFRICA</td>\n",
       "      <td>Mediclinic Bloemfontein</td>\n",
       "      <td>CLEARVUE 550 ULTRASOUND SYSTEM</td>\n",
       "      <td>H0_6600376487</td>\n",
       "      <td>3/28/2018</td>\n",
       "      <td>ZAR</td>\n",
       "      <td>12/7/2017</td>\n",
       "      <td>-0.01</td>\n",
       "      <td>Non_BnB</td>\n",
       "    </tr>\n",
       "    <tr>\n",
       "      <th>4</th>\n",
       "      <td>Africa</td>\n",
       "      <td>H0_ZA91</td>\n",
       "      <td>SOUTH AFRICA</td>\n",
       "      <td>Life Healthcare Group t/a Rosepark</td>\n",
       "      <td>AFFINITI 70 UPGRADE</td>\n",
       "      <td>H0_6600376874</td>\n",
       "      <td>3/29/2018</td>\n",
       "      <td>ZAR</td>\n",
       "      <td>1/22/2018</td>\n",
       "      <td>196240</td>\n",
       "      <td>BnB</td>\n",
       "    </tr>\n",
       "    <tr>\n",
       "      <th>5</th>\n",
       "      <td>Africa</td>\n",
       "      <td>H0_ZA91</td>\n",
       "      <td>SOUTH AFRICA</td>\n",
       "      <td>Life Healthcare Group t/a Rosepark</td>\n",
       "      <td>CLEARVUE 650 ULTRASOUND SYSTEM</td>\n",
       "      <td>H0_6600380813</td>\n",
       "      <td>3/29/2018</td>\n",
       "      <td>ZAR</td>\n",
       "      <td>1/29/2018</td>\n",
       "      <td>278000</td>\n",
       "      <td>BnB</td>\n",
       "    </tr>\n",
       "    <tr>\n",
       "      <th>7</th>\n",
       "      <td>Africa</td>\n",
       "      <td>H0_ZA91</td>\n",
       "      <td>SOUTH AFRICA</td>\n",
       "      <td>Netcare St. Anne's Hospital</td>\n",
       "      <td>QLAB</td>\n",
       "      <td>H0_6600376873</td>\n",
       "      <td>2/28/2018</td>\n",
       "      <td>ZAR</td>\n",
       "      <td>1/22/2018</td>\n",
       "      <td>23460</td>\n",
       "      <td>BnB</td>\n",
       "    </tr>\n",
       "  </tbody>\n",
       "</table>\n",
       "</div>"
      ],
      "text/plain": [
       "  BMC Market Comp_code_Sales       Country  \\\n",
       "0     Africa         H0_EG90     EGYPT LLC   \n",
       "2     Africa         H0_ZA91  SOUTH AFRICA   \n",
       "4     Africa         H0_ZA91  SOUTH AFRICA   \n",
       "5     Africa         H0_ZA91  SOUTH AFRICA   \n",
       "7     Africa         H0_ZA91  SOUTH AFRICA   \n",
       "\n",
       "                        Sold-to_party                     Description  \\\n",
       "0                 ???? ????? ????????   AFFINITI 50 ULTRASOUND SYSTEM   \n",
       "2             Mediclinic Bloemfontein  CLEARVUE 550 ULTRASOUND SYSTEM   \n",
       "4  Life Healthcare Group t/a Rosepark             AFFINITI 70 UPGRADE   \n",
       "5  Life Healthcare Group t/a Rosepark  CLEARVUE 650 ULTRASOUND SYSTEM   \n",
       "7         Netcare St. Anne's Hospital                            QLAB   \n",
       "\n",
       "     Sales order First Fin Bill Date Local Currency Creation date  \\\n",
       "0  H0_6600378541            5/2/2018            USD     1/31/2018   \n",
       "2  H0_6600376487           3/28/2018            ZAR     12/7/2017   \n",
       "4  H0_6600376874           3/29/2018            ZAR     1/22/2018   \n",
       "5  H0_6600380813           3/29/2018            ZAR     1/29/2018   \n",
       "7  H0_6600376873           2/28/2018            ZAR     1/22/2018   \n",
       "\n",
       "  Total OIT Value (DC) Bnb_flag  \n",
       "0                48000  Non_BnB  \n",
       "2                -0.01  Non_BnB  \n",
       "4               196240      BnB  \n",
       "5               278000      BnB  \n",
       "7                23460      BnB  "
      ]
     },
     "execution_count": 5,
     "metadata": {},
     "output_type": "execute_result"
    }
   ],
   "source": [
    "sap_df['Bnb_flag'] = sap_df.apply(check_quarter, axis=1)\n",
    "sap_df.head()"
   ]
  },
  {
   "cell_type": "markdown",
   "metadata": {},
   "source": [
    "#### Map description with system type and category"
   ]
  },
  {
   "cell_type": "code",
   "execution_count": 6,
   "metadata": {},
   "outputs": [
    {
     "data": {
      "text/html": [
       "<div>\n",
       "<style scoped>\n",
       "    .dataframe tbody tr th:only-of-type {\n",
       "        vertical-align: middle;\n",
       "    }\n",
       "\n",
       "    .dataframe tbody tr th {\n",
       "        vertical-align: top;\n",
       "    }\n",
       "\n",
       "    .dataframe thead th {\n",
       "        text-align: right;\n",
       "    }\n",
       "</style>\n",
       "<table border=\"1\" class=\"dataframe\">\n",
       "  <thead>\n",
       "    <tr style=\"text-align: right;\">\n",
       "      <th></th>\n",
       "      <th>BMC Market</th>\n",
       "      <th>Comp_code_Sales</th>\n",
       "      <th>Country</th>\n",
       "      <th>Sold-to_party</th>\n",
       "      <th>Description</th>\n",
       "      <th>Sales order</th>\n",
       "      <th>First Fin Bill Date</th>\n",
       "      <th>Local Currency</th>\n",
       "      <th>Creation date</th>\n",
       "      <th>Total OIT Value (DC)</th>\n",
       "      <th>Bnb_flag</th>\n",
       "      <th>System</th>\n",
       "      <th>Category</th>\n",
       "    </tr>\n",
       "  </thead>\n",
       "  <tbody>\n",
       "    <tr>\n",
       "      <th>0</th>\n",
       "      <td>Africa</td>\n",
       "      <td>H0_EG90</td>\n",
       "      <td>EGYPT LLC</td>\n",
       "      <td>???? ????? ????????</td>\n",
       "      <td>AFFINITI 50 ULTRASOUND SYSTEM</td>\n",
       "      <td>H0_6600378541</td>\n",
       "      <td>5/2/2018</td>\n",
       "      <td>USD</td>\n",
       "      <td>1/31/2018</td>\n",
       "      <td>48000</td>\n",
       "      <td>Non_BnB</td>\n",
       "      <td>System</td>\n",
       "      <td>Affiniti</td>\n",
       "    </tr>\n",
       "    <tr>\n",
       "      <th>1</th>\n",
       "      <td>Africa</td>\n",
       "      <td>H0_ZA91</td>\n",
       "      <td>SOUTH AFRICA</td>\n",
       "      <td>Mediclinic Bloemfontein</td>\n",
       "      <td>CLEARVUE 550 ULTRASOUND SYSTEM</td>\n",
       "      <td>H0_6600376487</td>\n",
       "      <td>3/28/2018</td>\n",
       "      <td>ZAR</td>\n",
       "      <td>12/7/2017</td>\n",
       "      <td>-0.01</td>\n",
       "      <td>Non_BnB</td>\n",
       "      <td>System</td>\n",
       "      <td>Clearvue</td>\n",
       "    </tr>\n",
       "    <tr>\n",
       "      <th>2</th>\n",
       "      <td>Africa</td>\n",
       "      <td>H0_ZA91</td>\n",
       "      <td>SOUTH AFRICA</td>\n",
       "      <td>Life Healthcare Group t/a Rosepark</td>\n",
       "      <td>AFFINITI 70 UPGRADE</td>\n",
       "      <td>H0_6600376874</td>\n",
       "      <td>3/29/2018</td>\n",
       "      <td>ZAR</td>\n",
       "      <td>1/22/2018</td>\n",
       "      <td>196240</td>\n",
       "      <td>BnB</td>\n",
       "      <td>Upgrade</td>\n",
       "      <td>Affiniti</td>\n",
       "    </tr>\n",
       "    <tr>\n",
       "      <th>3</th>\n",
       "      <td>Africa</td>\n",
       "      <td>H0_ZA91</td>\n",
       "      <td>SOUTH AFRICA</td>\n",
       "      <td>Life Healthcare Group t/a Rosepark</td>\n",
       "      <td>CLEARVUE 650 ULTRASOUND SYSTEM</td>\n",
       "      <td>H0_6600380813</td>\n",
       "      <td>3/29/2018</td>\n",
       "      <td>ZAR</td>\n",
       "      <td>1/29/2018</td>\n",
       "      <td>278000</td>\n",
       "      <td>BnB</td>\n",
       "      <td>System</td>\n",
       "      <td>Clearvue</td>\n",
       "    </tr>\n",
       "    <tr>\n",
       "      <th>4</th>\n",
       "      <td>Africa</td>\n",
       "      <td>H0_ZA91</td>\n",
       "      <td>SOUTH AFRICA</td>\n",
       "      <td>Netcare St. Anne's Hospital</td>\n",
       "      <td>QLAB</td>\n",
       "      <td>H0_6600376873</td>\n",
       "      <td>2/28/2018</td>\n",
       "      <td>ZAR</td>\n",
       "      <td>1/22/2018</td>\n",
       "      <td>23460</td>\n",
       "      <td>BnB</td>\n",
       "      <td>Others</td>\n",
       "      <td>Others</td>\n",
       "    </tr>\n",
       "  </tbody>\n",
       "</table>\n",
       "</div>"
      ],
      "text/plain": [
       "  BMC Market Comp_code_Sales       Country  \\\n",
       "0     Africa         H0_EG90     EGYPT LLC   \n",
       "1     Africa         H0_ZA91  SOUTH AFRICA   \n",
       "2     Africa         H0_ZA91  SOUTH AFRICA   \n",
       "3     Africa         H0_ZA91  SOUTH AFRICA   \n",
       "4     Africa         H0_ZA91  SOUTH AFRICA   \n",
       "\n",
       "                        Sold-to_party                     Description  \\\n",
       "0                 ???? ????? ????????   AFFINITI 50 ULTRASOUND SYSTEM   \n",
       "1             Mediclinic Bloemfontein  CLEARVUE 550 ULTRASOUND SYSTEM   \n",
       "2  Life Healthcare Group t/a Rosepark             AFFINITI 70 UPGRADE   \n",
       "3  Life Healthcare Group t/a Rosepark  CLEARVUE 650 ULTRASOUND SYSTEM   \n",
       "4         Netcare St. Anne's Hospital                            QLAB   \n",
       "\n",
       "     Sales order First Fin Bill Date Local Currency Creation date  \\\n",
       "0  H0_6600378541            5/2/2018            USD     1/31/2018   \n",
       "1  H0_6600376487           3/28/2018            ZAR     12/7/2017   \n",
       "2  H0_6600376874           3/29/2018            ZAR     1/22/2018   \n",
       "3  H0_6600380813           3/29/2018            ZAR     1/29/2018   \n",
       "4  H0_6600376873           2/28/2018            ZAR     1/22/2018   \n",
       "\n",
       "  Total OIT Value (DC) Bnb_flag   System  Category  \n",
       "0                48000  Non_BnB   System  Affiniti  \n",
       "1                -0.01  Non_BnB   System  Clearvue  \n",
       "2               196240      BnB  Upgrade  Affiniti  \n",
       "3               278000      BnB   System  Clearvue  \n",
       "4                23460      BnB   Others    Others  "
      ]
     },
     "execution_count": 6,
     "metadata": {},
     "output_type": "execute_result"
    }
   ],
   "source": [
    "material_master = pd.read_excel(\"Description_master_Data.xlsx\", sheet_name=\"Mapping\")\n",
    "material_master.head()\n",
    "\n",
    "sap_df = pd.merge(sap_df, material_master, on='Description', how='left')\n",
    "sap_df.head()"
   ]
  },
  {
   "cell_type": "markdown",
   "metadata": {},
   "source": [
    "#### Map Local currencies with AOP and convert OIT value to USD"
   ]
  },
  {
   "cell_type": "code",
   "execution_count": 7,
   "metadata": {},
   "outputs": [
    {
     "data": {
      "text/html": [
       "<div>\n",
       "<style scoped>\n",
       "    .dataframe tbody tr th:only-of-type {\n",
       "        vertical-align: middle;\n",
       "    }\n",
       "\n",
       "    .dataframe tbody tr th {\n",
       "        vertical-align: top;\n",
       "    }\n",
       "\n",
       "    .dataframe thead th {\n",
       "        text-align: right;\n",
       "    }\n",
       "</style>\n",
       "<table border=\"1\" class=\"dataframe\">\n",
       "  <thead>\n",
       "    <tr style=\"text-align: right;\">\n",
       "      <th></th>\n",
       "      <th>BMC Market</th>\n",
       "      <th>Comp_code_Sales</th>\n",
       "      <th>Country</th>\n",
       "      <th>Sold-to_party</th>\n",
       "      <th>Description</th>\n",
       "      <th>Sales order</th>\n",
       "      <th>First Fin Bill Date</th>\n",
       "      <th>Local Currency</th>\n",
       "      <th>Creation date</th>\n",
       "      <th>Total OIT Value (DC)</th>\n",
       "      <th>Bnb_flag</th>\n",
       "      <th>System</th>\n",
       "      <th>Category</th>\n",
       "      <th>USD</th>\n",
       "      <th>Val_USD</th>\n",
       "    </tr>\n",
       "  </thead>\n",
       "  <tbody>\n",
       "    <tr>\n",
       "      <th>0</th>\n",
       "      <td>Africa</td>\n",
       "      <td>H0_EG90</td>\n",
       "      <td>EGYPT LLC</td>\n",
       "      <td>???? ????? ????????</td>\n",
       "      <td>AFFINITI 50 ULTRASOUND SYSTEM</td>\n",
       "      <td>H0_6600378541</td>\n",
       "      <td>5/2/2018</td>\n",
       "      <td>USD</td>\n",
       "      <td>1/31/2018</td>\n",
       "      <td>48000.00</td>\n",
       "      <td>Non_BnB</td>\n",
       "      <td>System</td>\n",
       "      <td>Affiniti</td>\n",
       "      <td>1.000000</td>\n",
       "      <td>48000.0000</td>\n",
       "    </tr>\n",
       "    <tr>\n",
       "      <th>1</th>\n",
       "      <td>Africa</td>\n",
       "      <td>H0_ZA91</td>\n",
       "      <td>SOUTH AFRICA</td>\n",
       "      <td>Mediclinic Bloemfontein</td>\n",
       "      <td>CLEARVUE 550 ULTRASOUND SYSTEM</td>\n",
       "      <td>H0_6600376487</td>\n",
       "      <td>3/28/2018</td>\n",
       "      <td>ZAR</td>\n",
       "      <td>12/7/2017</td>\n",
       "      <td>-0.01</td>\n",
       "      <td>Non_BnB</td>\n",
       "      <td>System</td>\n",
       "      <td>Clearvue</td>\n",
       "      <td>0.069324</td>\n",
       "      <td>-0.0007</td>\n",
       "    </tr>\n",
       "    <tr>\n",
       "      <th>2</th>\n",
       "      <td>Africa</td>\n",
       "      <td>H0_ZA91</td>\n",
       "      <td>SOUTH AFRICA</td>\n",
       "      <td>Life Healthcare Group t/a Rosepark</td>\n",
       "      <td>AFFINITI 70 UPGRADE</td>\n",
       "      <td>H0_6600376874</td>\n",
       "      <td>3/29/2018</td>\n",
       "      <td>ZAR</td>\n",
       "      <td>1/22/2018</td>\n",
       "      <td>196240.00</td>\n",
       "      <td>BnB</td>\n",
       "      <td>Upgrade</td>\n",
       "      <td>Affiniti</td>\n",
       "      <td>0.069324</td>\n",
       "      <td>13736.8000</td>\n",
       "    </tr>\n",
       "    <tr>\n",
       "      <th>3</th>\n",
       "      <td>Africa</td>\n",
       "      <td>H0_ZA91</td>\n",
       "      <td>SOUTH AFRICA</td>\n",
       "      <td>Life Healthcare Group t/a Rosepark</td>\n",
       "      <td>CLEARVUE 650 ULTRASOUND SYSTEM</td>\n",
       "      <td>H0_6600380813</td>\n",
       "      <td>3/29/2018</td>\n",
       "      <td>ZAR</td>\n",
       "      <td>1/29/2018</td>\n",
       "      <td>278000.00</td>\n",
       "      <td>BnB</td>\n",
       "      <td>System</td>\n",
       "      <td>Clearvue</td>\n",
       "      <td>0.069324</td>\n",
       "      <td>19460.0000</td>\n",
       "    </tr>\n",
       "    <tr>\n",
       "      <th>4</th>\n",
       "      <td>Africa</td>\n",
       "      <td>H0_ZA91</td>\n",
       "      <td>SOUTH AFRICA</td>\n",
       "      <td>Netcare St. Anne's Hospital</td>\n",
       "      <td>QLAB</td>\n",
       "      <td>H0_6600376873</td>\n",
       "      <td>2/28/2018</td>\n",
       "      <td>ZAR</td>\n",
       "      <td>1/22/2018</td>\n",
       "      <td>23460.00</td>\n",
       "      <td>BnB</td>\n",
       "      <td>Others</td>\n",
       "      <td>Others</td>\n",
       "      <td>0.069324</td>\n",
       "      <td>1642.2000</td>\n",
       "    </tr>\n",
       "  </tbody>\n",
       "</table>\n",
       "</div>"
      ],
      "text/plain": [
       "  BMC Market Comp_code_Sales       Country  \\\n",
       "0     Africa         H0_EG90     EGYPT LLC   \n",
       "1     Africa         H0_ZA91  SOUTH AFRICA   \n",
       "2     Africa         H0_ZA91  SOUTH AFRICA   \n",
       "3     Africa         H0_ZA91  SOUTH AFRICA   \n",
       "4     Africa         H0_ZA91  SOUTH AFRICA   \n",
       "\n",
       "                        Sold-to_party                     Description  \\\n",
       "0                 ???? ????? ????????   AFFINITI 50 ULTRASOUND SYSTEM   \n",
       "1             Mediclinic Bloemfontein  CLEARVUE 550 ULTRASOUND SYSTEM   \n",
       "2  Life Healthcare Group t/a Rosepark             AFFINITI 70 UPGRADE   \n",
       "3  Life Healthcare Group t/a Rosepark  CLEARVUE 650 ULTRASOUND SYSTEM   \n",
       "4         Netcare St. Anne's Hospital                            QLAB   \n",
       "\n",
       "     Sales order First Fin Bill Date Local Currency Creation date  \\\n",
       "0  H0_6600378541            5/2/2018            USD     1/31/2018   \n",
       "1  H0_6600376487           3/28/2018            ZAR     12/7/2017   \n",
       "2  H0_6600376874           3/29/2018            ZAR     1/22/2018   \n",
       "3  H0_6600380813           3/29/2018            ZAR     1/29/2018   \n",
       "4  H0_6600376873           2/28/2018            ZAR     1/22/2018   \n",
       "\n",
       "   Total OIT Value (DC) Bnb_flag   System  Category       USD     Val_USD  \n",
       "0              48000.00  Non_BnB   System  Affiniti  1.000000  48000.0000  \n",
       "1                 -0.01  Non_BnB   System  Clearvue  0.069324     -0.0007  \n",
       "2             196240.00      BnB  Upgrade  Affiniti  0.069324  13736.8000  \n",
       "3             278000.00      BnB   System  Clearvue  0.069324  19460.0000  \n",
       "4              23460.00      BnB   Others    Others  0.069324   1642.2000  "
      ]
     },
     "execution_count": 7,
     "metadata": {},
     "output_type": "execute_result"
    }
   ],
   "source": [
    "aop_df = pd.read_excel(\"AOP rates Aug-18.xlsx\", sheet_name=\"Sheet2\")\n",
    "aop_df = aop_df[['Currency', 'USD']]\n",
    "aop_df.head()\n",
    "\n",
    "sap_df = pd.merge(sap_df, aop_df, left_on='Local Currency', right_on='Currency', how='left')\n",
    "sap_df = sap_df.drop(['Currency'], axis=1)\n",
    "sap_df['Total OIT Value (DC)'] = pd.to_numeric(sap_df['Total OIT Value (DC)'], errors='coerce')\n",
    "sap_df['Val_USD'] = round(sap_df['Total OIT Value (DC)'], 2) * round(sap_df['USD'], 2)\n",
    "sap_df.head()"
   ]
  },
  {
   "cell_type": "code",
   "execution_count": 9,
   "metadata": {},
   "outputs": [],
   "source": [
    "sap_df['Creation date'] = sap_df['Creation date'].astype('datetime64[D]')\n",
    "sap_df['year'] = sap_df['Creation date'].dt.year\n",
    "sap_df['quarter'] = sap_df['Creation date'].dt.quarter"
   ]
  },
  {
   "cell_type": "code",
   "execution_count": 10,
   "metadata": {},
   "outputs": [
    {
     "data": {
      "text/html": [
       "<div>\n",
       "<style scoped>\n",
       "    .dataframe tbody tr th:only-of-type {\n",
       "        vertical-align: middle;\n",
       "    }\n",
       "\n",
       "    .dataframe tbody tr th {\n",
       "        vertical-align: top;\n",
       "    }\n",
       "\n",
       "    .dataframe thead th {\n",
       "        text-align: right;\n",
       "    }\n",
       "</style>\n",
       "<table border=\"1\" class=\"dataframe\">\n",
       "  <thead>\n",
       "    <tr style=\"text-align: right;\">\n",
       "      <th></th>\n",
       "      <th>BMC Market</th>\n",
       "      <th>Comp_code_Sales</th>\n",
       "      <th>Country</th>\n",
       "      <th>Sold-to_party</th>\n",
       "      <th>Description</th>\n",
       "      <th>Sales order</th>\n",
       "      <th>First Fin Bill Date</th>\n",
       "      <th>Local Currency</th>\n",
       "      <th>Creation date</th>\n",
       "      <th>Total OIT Value (DC)</th>\n",
       "      <th>Bnb_flag</th>\n",
       "      <th>System</th>\n",
       "      <th>Category</th>\n",
       "      <th>USD</th>\n",
       "      <th>Val_USD</th>\n",
       "      <th>year</th>\n",
       "      <th>quarter</th>\n",
       "    </tr>\n",
       "  </thead>\n",
       "  <tbody>\n",
       "    <tr>\n",
       "      <th>0</th>\n",
       "      <td>Africa</td>\n",
       "      <td>H0_EG90</td>\n",
       "      <td>EGYPT LLC</td>\n",
       "      <td>???? ????? ????????</td>\n",
       "      <td>AFFINITI 50 ULTRASOUND SYSTEM</td>\n",
       "      <td>H0_6600378541</td>\n",
       "      <td>5/2/2018</td>\n",
       "      <td>USD</td>\n",
       "      <td>2018-01-31</td>\n",
       "      <td>48000.0</td>\n",
       "      <td>Non_BnB</td>\n",
       "      <td>System</td>\n",
       "      <td>Affiniti</td>\n",
       "      <td>1.000000</td>\n",
       "      <td>48000.0</td>\n",
       "      <td>2018</td>\n",
       "      <td>1</td>\n",
       "    </tr>\n",
       "    <tr>\n",
       "      <th>2</th>\n",
       "      <td>Africa</td>\n",
       "      <td>H0_ZA91</td>\n",
       "      <td>SOUTH AFRICA</td>\n",
       "      <td>Life Healthcare Group t/a Rosepark</td>\n",
       "      <td>AFFINITI 70 UPGRADE</td>\n",
       "      <td>H0_6600376874</td>\n",
       "      <td>3/29/2018</td>\n",
       "      <td>ZAR</td>\n",
       "      <td>2018-01-22</td>\n",
       "      <td>196240.0</td>\n",
       "      <td>BnB</td>\n",
       "      <td>Upgrade</td>\n",
       "      <td>Affiniti</td>\n",
       "      <td>0.069324</td>\n",
       "      <td>13736.8</td>\n",
       "      <td>2018</td>\n",
       "      <td>1</td>\n",
       "    </tr>\n",
       "    <tr>\n",
       "      <th>3</th>\n",
       "      <td>Africa</td>\n",
       "      <td>H0_ZA91</td>\n",
       "      <td>SOUTH AFRICA</td>\n",
       "      <td>Life Healthcare Group t/a Rosepark</td>\n",
       "      <td>CLEARVUE 650 ULTRASOUND SYSTEM</td>\n",
       "      <td>H0_6600380813</td>\n",
       "      <td>3/29/2018</td>\n",
       "      <td>ZAR</td>\n",
       "      <td>2018-01-29</td>\n",
       "      <td>278000.0</td>\n",
       "      <td>BnB</td>\n",
       "      <td>System</td>\n",
       "      <td>Clearvue</td>\n",
       "      <td>0.069324</td>\n",
       "      <td>19460.0</td>\n",
       "      <td>2018</td>\n",
       "      <td>1</td>\n",
       "    </tr>\n",
       "    <tr>\n",
       "      <th>4</th>\n",
       "      <td>Africa</td>\n",
       "      <td>H0_ZA91</td>\n",
       "      <td>SOUTH AFRICA</td>\n",
       "      <td>Netcare St. Anne's Hospital</td>\n",
       "      <td>QLAB</td>\n",
       "      <td>H0_6600376873</td>\n",
       "      <td>2/28/2018</td>\n",
       "      <td>ZAR</td>\n",
       "      <td>2018-01-22</td>\n",
       "      <td>23460.0</td>\n",
       "      <td>BnB</td>\n",
       "      <td>Others</td>\n",
       "      <td>Others</td>\n",
       "      <td>0.069324</td>\n",
       "      <td>1642.2</td>\n",
       "      <td>2018</td>\n",
       "      <td>1</td>\n",
       "    </tr>\n",
       "    <tr>\n",
       "      <th>5</th>\n",
       "      <td>Africa</td>\n",
       "      <td>H0_ZA91</td>\n",
       "      <td>SOUTH AFRICA</td>\n",
       "      <td>Netcare St. Anne's Hospital</td>\n",
       "      <td>CX50 ULTRASOUND SYSTEM</td>\n",
       "      <td>H0_6600376873</td>\n",
       "      <td>2/28/2018</td>\n",
       "      <td>ZAR</td>\n",
       "      <td>2018-01-22</td>\n",
       "      <td>725010.0</td>\n",
       "      <td>BnB</td>\n",
       "      <td>System</td>\n",
       "      <td>CX50</td>\n",
       "      <td>0.069324</td>\n",
       "      <td>50750.7</td>\n",
       "      <td>2018</td>\n",
       "      <td>1</td>\n",
       "    </tr>\n",
       "  </tbody>\n",
       "</table>\n",
       "</div>"
      ],
      "text/plain": [
       "  BMC Market Comp_code_Sales       Country  \\\n",
       "0     Africa         H0_EG90     EGYPT LLC   \n",
       "2     Africa         H0_ZA91  SOUTH AFRICA   \n",
       "3     Africa         H0_ZA91  SOUTH AFRICA   \n",
       "4     Africa         H0_ZA91  SOUTH AFRICA   \n",
       "5     Africa         H0_ZA91  SOUTH AFRICA   \n",
       "\n",
       "                        Sold-to_party                     Description  \\\n",
       "0                 ???? ????? ????????   AFFINITI 50 ULTRASOUND SYSTEM   \n",
       "2  Life Healthcare Group t/a Rosepark             AFFINITI 70 UPGRADE   \n",
       "3  Life Healthcare Group t/a Rosepark  CLEARVUE 650 ULTRASOUND SYSTEM   \n",
       "4         Netcare St. Anne's Hospital                            QLAB   \n",
       "5         Netcare St. Anne's Hospital          CX50 ULTRASOUND SYSTEM   \n",
       "\n",
       "     Sales order First Fin Bill Date Local Currency Creation date  \\\n",
       "0  H0_6600378541            5/2/2018            USD    2018-01-31   \n",
       "2  H0_6600376874           3/29/2018            ZAR    2018-01-22   \n",
       "3  H0_6600380813           3/29/2018            ZAR    2018-01-29   \n",
       "4  H0_6600376873           2/28/2018            ZAR    2018-01-22   \n",
       "5  H0_6600376873           2/28/2018            ZAR    2018-01-22   \n",
       "\n",
       "   Total OIT Value (DC) Bnb_flag   System  Category       USD  Val_USD  year  \\\n",
       "0               48000.0  Non_BnB   System  Affiniti  1.000000  48000.0  2018   \n",
       "2              196240.0      BnB  Upgrade  Affiniti  0.069324  13736.8  2018   \n",
       "3              278000.0      BnB   System  Clearvue  0.069324  19460.0  2018   \n",
       "4               23460.0      BnB   Others    Others  0.069324   1642.2  2018   \n",
       "5              725010.0      BnB   System      CX50  0.069324  50750.7  2018   \n",
       "\n",
       "   quarter  \n",
       "0        1  \n",
       "2        1  \n",
       "3        1  \n",
       "4        1  \n",
       "5        1  "
      ]
     },
     "execution_count": 10,
     "metadata": {},
     "output_type": "execute_result"
    }
   ],
   "source": [
    "sap_df = sap_df[sap_df['year'] != 2017]\n",
    "sap_df.head()"
   ]
  },
  {
   "cell_type": "markdown",
   "metadata": {},
   "source": [
    "### 1.2 Pie Charts for proportion of BnB vs Non_BnB \n",
    "#### 2018-2019"
   ]
  },
  {
   "cell_type": "code",
   "execution_count": 25,
   "metadata": {},
   "outputs": [
    {
     "data": {
      "image/png": "[encoded data removed]",
      "text/plain": [
       "<Figure size 432x288 with 1 Axes>"
      ]
     },
     "metadata": {},
     "output_type": "display_data"
    }
   ],
   "source": [
    "bnb_pct = round(100 * sap_df['Bnb_flag'].value_counts(normalize=True))\n",
    "bnb_pct.plot.pie(y=bnb_pct.index,\n",
    "           shadow=False,\n",
    "           colors=['red', 'green'], \n",
    "           explode=(0, 0.15),   # exploding 'Bnb'\n",
    "           startangle=90,\n",
    "           autopct='%1.1f%%')\n",
    "\n",
    "plt.axis('equal')\n",
    "plt.ylabel('')\n",
    "plt.title('Percentage of Book and Billed from 2018 - 2019 (by count)')\n",
    "\n",
    "plt.savefig(r\"C:\\Users\\320054667\\OneDrive - Philips\\Work\\Project\\UltraSound\\BookNBill\\Graphs\\BnB1819_by_count.png\")\n",
    "plt.show()"
   ]
  },
  {
   "cell_type": "code",
   "execution_count": 33,
   "metadata": {},
   "outputs": [
    {
     "data": {
      "image/png": "[encoded data removed]",
      "text/plain": [
       "<Figure size 432x288 with 1 Axes>"
      ]
     },
     "metadata": {},
     "output_type": "display_data"
    }
   ],
   "source": [
    "pct_val_all = (sap_df.groupby('Bnb_flag')['Val_USD'].sum()/ sap_df['Val_USD'].sum()) * 100\n",
    "pct_val_all.plot.pie(y=pct_val_all.index,\n",
    "       shadow=False,\n",
    "       colors=['green', 'red'], \n",
    "       explode=(0, 0.15),   # exploding 'Bnb'\n",
    "       startangle=90,\n",
    "       autopct='%1.1f%%')\n",
    "\n",
    "plt.axis('equal')\n",
    "\n",
    "plt.ylabel('')\n",
    "plt.title('Percentage of Book and Billed 2018-2019 (by value in USD)')\n",
    "\n",
    "plt.savefig(r\"C:\\Users\\320054667\\OneDrive - Philips\\Work\\Project\\UltraSound\\BookNBill\\Graphs\\BnB1819_by_valUSD.png\")\n",
    "plt.show()"
   ]
  },
  {
   "cell_type": "code",
   "execution_count": 13,
   "metadata": {},
   "outputs": [],
   "source": [
    "df2018 = sap_df[sap_df['year'] == 2018]\n",
    "df2019 = sap_df[sap_df['year'] == 2019]"
   ]
  },
  {
   "cell_type": "markdown",
   "metadata": {},
   "source": [
    "#### 2018"
   ]
  },
  {
   "cell_type": "code",
   "execution_count": null,
   "metadata": {},
   "outputs": [],
   "source": [
    "pct2018 = round(100 * df2018['Bnb_flag'].value_counts(normalize=True))\n",
    "pct2018.plot.pie(y=pct2018.index,\n",
    "       shadow=False,\n",
    "       colors=['red', 'green'], \n",
    "       explode=(0, 0.15),   # exploding 'Bnb'\n",
    "       startangle=90,\n",
    "       autopct='%1.1f%%')\n",
    "\n",
    "plt.axis('equal')\n",
    "plt.tight_layout()\n",
    "plt.ylabel('')\n",
    "plt.title('Percentage of Book and Billed in 2018 (by count)')\n",
    "plt.show()\n"
   ]
  },
  {
   "cell_type": "code",
   "execution_count": null,
   "metadata": {},
   "outputs": [],
   "source": [
    "pct_val2018 = (df2018.groupby('Bnb_flag')['Val_USD'].sum()/ df2018['Val_USD'].sum()) * 100\n",
    "pct_val2018.plot.pie(y=pct_val2018.index,\n",
    "       shadow=False,\n",
    "       colors=['green', 'red'], \n",
    "       explode=(0, 0.15),   # exploding 'Bnb'\n",
    "       startangle=90,\n",
    "       autopct='%1.1f%%')\n",
    "\n",
    "plt.axis('equal')\n",
    "plt.tight_layout()\n",
    "plt.ylabel('')\n",
    "plt.title('Percentage of Book and Billed in 2018 (by value USD)')\n",
    "plt.show()"
   ]
  },
  {
   "cell_type": "markdown",
   "metadata": {},
   "source": [
    "#### 2019"
   ]
  },
  {
   "cell_type": "code",
   "execution_count": null,
   "metadata": {},
   "outputs": [],
   "source": [
    "pct2019 = round(100 * df2019['Bnb_flag'].value_counts(normalize=True))\n",
    "pct2019.plot.pie(y=pct2019.index,\n",
    "       shadow=False,\n",
    "       colors=['red', 'green'], \n",
    "       explode=(0, 0.15),   # exploding 'Bnb'\n",
    "       startangle=90,\n",
    "       autopct='%1.1f%%')\n",
    "\n",
    "plt.axis('equal')\n",
    "plt.tight_layout()\n",
    "plt.ylabel('')\n",
    "plt.title('Percentage of Book and Billed in 2019 (by count)')\n",
    "plt.show()\n"
   ]
  },
  {
   "cell_type": "code",
   "execution_count": null,
   "metadata": {},
   "outputs": [],
   "source": [
    "pct_val2019 = (df2019.groupby('Bnb_flag')['Val_USD'].sum()/ df2019['Val_USD'].sum()) * 100\n",
    "pct_val2019.plot.pie(y=pct_val2019.index,\n",
    "       shadow=False,\n",
    "       colors=['green', 'red'], \n",
    "       explode=(0, 0.15),   # exploding 'Bnb'\n",
    "       startangle=90,\n",
    "       autopct='%1.1f%%')\n",
    "\n",
    "plt.axis('equal')\n",
    "plt.tight_layout()\n",
    "plt.ylabel('')\n",
    "plt.title('Percentage of Book and Billed in 2019 (by value USD)')\n",
    "plt.show()"
   ]
  },
  {
   "cell_type": "markdown",
   "metadata": {},
   "source": [
    "### 1.3 Line Graphs for BnB vs Non_BnB trends over time (Y, Q)\n",
    "#### Overall trend 2018 - 2019"
   ]
  },
  {
   "cell_type": "code",
   "execution_count": 59,
   "metadata": {},
   "outputs": [
    {
     "data": {
      "image/png": "[encoded data removed]",
      "text/plain": [
       "<Figure size 432x288 with 1 Axes>"
      ]
     },
     "metadata": {
      "needs_background": "light"
     },
     "output_type": "display_data"
    }
   ],
   "source": [
    "val_trends_bar = sap_df.groupby(['year', 'quarter', 'Bnb_flag'])['Val_USD'].sum() / 1000000\n",
    "val_trends_bar_df = val_trends_bar.unstack('Bnb_flag')\n",
    "\n",
    "ax = val_trends_bar_df.plot(kind='bar')\n",
    "def autolabel(rects, ax):\n",
    "    for rect in rects:\n",
    "        x = round(rect.get_x() + rect.get_width()/2., 1)\n",
    "        y = round(rect.get_height(), 1)\n",
    "        ax.annotate(\"{}\".format(y), (x,y), xytext=(0,5), textcoords=\"offset points\",\n",
    "                    ha='center', va='bottom')\n",
    "\n",
    "autolabel(ax.patches,ax)\n",
    "\n",
    "ax.margins(y=0.1)\n",
    "\n",
    "plt.title('Quarterly trends from 2018-19 by Value (USD)')\n",
    "plt.xlabel('Year, Quarter')\n",
    "plt.ylabel('Value in Million USD')\n",
    "plt.savefig(r\"C:\\Users\\320054667\\OneDrive - Philips\\Work\\Project\\UltraSound\\BookNBill\\Graphs\\Quarterly_trends_both.png\")\n",
    "\n",
    "plt.show()"
   ]
  },
  {
   "cell_type": "code",
   "execution_count": 66,
   "metadata": {},
   "outputs": [
    {
     "data": {
      "text/html": [
       "<div>\n",
       "<style scoped>\n",
       "    .dataframe tbody tr th:only-of-type {\n",
       "        vertical-align: middle;\n",
       "    }\n",
       "\n",
       "    .dataframe tbody tr th {\n",
       "        vertical-align: top;\n",
       "    }\n",
       "\n",
       "    .dataframe thead th {\n",
       "        text-align: right;\n",
       "    }\n",
       "</style>\n",
       "<table border=\"1\" class=\"dataframe\">\n",
       "  <thead>\n",
       "    <tr style=\"text-align: right;\">\n",
       "      <th></th>\n",
       "      <th>Bnb_flag</th>\n",
       "      <th>BnB</th>\n",
       "      <th>Non_BnB</th>\n",
       "      <th>Total</th>\n",
       "      <th>Bnb_pct</th>\n",
       "    </tr>\n",
       "    <tr>\n",
       "      <th>year</th>\n",
       "      <th>quarter</th>\n",
       "      <th></th>\n",
       "      <th></th>\n",
       "      <th></th>\n",
       "      <th></th>\n",
       "    </tr>\n",
       "  </thead>\n",
       "  <tbody>\n",
       "    <tr>\n",
       "      <th rowspan=\"4\" valign=\"top\">2018</th>\n",
       "      <th>1</th>\n",
       "      <td>31.866965</td>\n",
       "      <td>103.127549</td>\n",
       "      <td>134.994515</td>\n",
       "      <td>23.606119</td>\n",
       "    </tr>\n",
       "    <tr>\n",
       "      <th>2</th>\n",
       "      <td>29.542210</td>\n",
       "      <td>139.781822</td>\n",
       "      <td>169.324033</td>\n",
       "      <td>17.447145</td>\n",
       "    </tr>\n",
       "    <tr>\n",
       "      <th>3</th>\n",
       "      <td>36.527755</td>\n",
       "      <td>133.646314</td>\n",
       "      <td>170.174069</td>\n",
       "      <td>21.464936</td>\n",
       "    </tr>\n",
       "    <tr>\n",
       "      <th>4</th>\n",
       "      <td>68.620746</td>\n",
       "      <td>91.762641</td>\n",
       "      <td>160.383387</td>\n",
       "      <td>42.785445</td>\n",
       "    </tr>\n",
       "    <tr>\n",
       "      <th>2019</th>\n",
       "      <th>1</th>\n",
       "      <td>82.904453</td>\n",
       "      <td>100.273005</td>\n",
       "      <td>183.177458</td>\n",
       "      <td>45.259091</td>\n",
       "    </tr>\n",
       "  </tbody>\n",
       "</table>\n",
       "</div>"
      ],
      "text/plain": [
       "Bnb_flag            BnB     Non_BnB       Total    Bnb_pct\n",
       "year quarter                                              \n",
       "2018 1        31.866965  103.127549  134.994515  23.606119\n",
       "     2        29.542210  139.781822  169.324033  17.447145\n",
       "     3        36.527755  133.646314  170.174069  21.464936\n",
       "     4        68.620746   91.762641  160.383387  42.785445\n",
       "2019 1        82.904453  100.273005  183.177458  45.259091"
      ]
     },
     "execution_count": 66,
     "metadata": {},
     "output_type": "execute_result"
    }
   ],
   "source": [
    "val_trends_bar_df['Total'] = val_trends_bar_df['BnB'] + val_trends_bar_df['Non_BnB']\n",
    "val_trends_bar_df['Bnb_pct'] = (val_trends_bar_df['BnB'] / val_trends_bar_df['Total']) * 100\n",
    "val_trends_bar_df.head()"
   ]
  },
  {
   "cell_type": "code",
   "execution_count": 75,
   "metadata": {},
   "outputs": [
    {
     "data": {
      "image/png": "[encoded data removed]",
      "text/plain": [
       "<Figure size 432x288 with 2 Axes>"
      ]
     },
     "metadata": {
      "needs_background": "light"
     },
     "output_type": "display_data"
    }
   ],
   "source": [
    "#m1_t[['abnormal','fix','normal']].plot(kind='bar', width = width)\n",
    "width=0.35\n",
    "val_trends_bar_df[['BnB']].plot(kind='bar', width=width)\n",
    "val_trends_bar_df['Bnb_pct'].plot(secondary_y=True, label='Total')\n",
    "#m1_t['bad_rate'].plot(secondary_y=True)\n",
    "\n",
    "ax = plt.gca()\n",
    "\n",
    "ax.set_ylabel('BnB / Total %')\n",
    "#ax.ylabel('Value in Million USD')\n",
    "#ax.right_ax.set_ylabel('Average age')\n",
    "#ax.set_xticklabels(('G1', 'G2', 'G3', 'G4', 'G5', 'G6', 'G7', 'G8', 'G9', 'G10'))\n",
    "\n",
    "plt.show()\n",
    "\n",
    "# ax = val_trends_bar_df.plot(kind='bar')\n",
    "def autolabel(rects, ax):\n",
    "    for rect in rects:\n",
    "        x = round(rect.get_x() + rect.get_width()/2., 1)\n",
    "        y = round(rect.get_height(), 1)\n",
    "        ax.annotate(\"{}\".format(y), (x,y), xytext=(0,5), textcoords=\"offset points\",\n",
    "                    ha='center', va='bottom')\n",
    "\n",
    "autolabel(ax.patches,ax)\n",
    "\n",
    "# ax.margins(y=0.1)\n",
    "\n",
    "# plt.title('Quarterly trends from 2018-19 by Value (USD)')\n",
    "# plt.xlabel('Year, Quarter')\n",
    "# plt.ylabel('Value in Million USD')\n",
    "# plt.savefig(r\"C:\\Users\\320054667\\OneDrive - Philips\\Work\\Project\\UltraSound\\BookNBill\\Graphs\\Quarterly_trends_both.png\")\n",
    "\n",
    "#plt.show()"
   ]
  },
  {
   "cell_type": "code",
   "execution_count": 76,
   "metadata": {},
   "outputs": [
    {
     "data": {
      "text/html": [
       "<div>\n",
       "<style scoped>\n",
       "    .dataframe tbody tr th:only-of-type {\n",
       "        vertical-align: middle;\n",
       "    }\n",
       "\n",
       "    .dataframe tbody tr th {\n",
       "        vertical-align: top;\n",
       "    }\n",
       "\n",
       "    .dataframe thead th {\n",
       "        text-align: right;\n",
       "    }\n",
       "</style>\n",
       "<table border=\"1\" class=\"dataframe\">\n",
       "  <thead>\n",
       "    <tr style=\"text-align: right;\">\n",
       "      <th></th>\n",
       "      <th>Bnb_flag</th>\n",
       "      <th>BnB</th>\n",
       "      <th>Non_BnB</th>\n",
       "      <th>Total</th>\n",
       "      <th>Bnb_pct</th>\n",
       "    </tr>\n",
       "    <tr>\n",
       "      <th>year</th>\n",
       "      <th>quarter</th>\n",
       "      <th></th>\n",
       "      <th></th>\n",
       "      <th></th>\n",
       "      <th></th>\n",
       "    </tr>\n",
       "  </thead>\n",
       "  <tbody>\n",
       "    <tr>\n",
       "      <th rowspan=\"4\" valign=\"top\">2018</th>\n",
       "      <th>1</th>\n",
       "      <td>31.866965</td>\n",
       "      <td>103.127549</td>\n",
       "      <td>134.994515</td>\n",
       "      <td>23.606119</td>\n",
       "    </tr>\n",
       "    <tr>\n",
       "      <th>2</th>\n",
       "      <td>29.542210</td>\n",
       "      <td>139.781822</td>\n",
       "      <td>169.324033</td>\n",
       "      <td>17.447145</td>\n",
       "    </tr>\n",
       "    <tr>\n",
       "      <th>3</th>\n",
       "      <td>36.527755</td>\n",
       "      <td>133.646314</td>\n",
       "      <td>170.174069</td>\n",
       "      <td>21.464936</td>\n",
       "    </tr>\n",
       "    <tr>\n",
       "      <th>4</th>\n",
       "      <td>68.620746</td>\n",
       "      <td>91.762641</td>\n",
       "      <td>160.383387</td>\n",
       "      <td>42.785445</td>\n",
       "    </tr>\n",
       "    <tr>\n",
       "      <th>2019</th>\n",
       "      <th>1</th>\n",
       "      <td>82.904453</td>\n",
       "      <td>100.273005</td>\n",
       "      <td>183.177458</td>\n",
       "      <td>45.259091</td>\n",
       "    </tr>\n",
       "  </tbody>\n",
       "</table>\n",
       "</div>"
      ],
      "text/plain": [
       "Bnb_flag            BnB     Non_BnB       Total    Bnb_pct\n",
       "year quarter                                              \n",
       "2018 1        31.866965  103.127549  134.994515  23.606119\n",
       "     2        29.542210  139.781822  169.324033  17.447145\n",
       "     3        36.527755  133.646314  170.174069  21.464936\n",
       "     4        68.620746   91.762641  160.383387  42.785445\n",
       "2019 1        82.904453  100.273005  183.177458  45.259091"
      ]
     },
     "execution_count": 76,
     "metadata": {},
     "output_type": "execute_result"
    }
   ],
   "source": [
    "val_trends_bar_df.head()"
   ]
  },
  {
   "cell_type": "code",
   "execution_count": null,
   "metadata": {},
   "outputs": [],
   "source": [
    "fig, ax = plt.subplots()\n",
    "\n",
    "ax.bar(mkt_df.index, mkt_df[\"BnB\"], color=\"C0\", label='BnB')\n",
    "ax2 = ax.twinx()\n",
    "ax2.plot(mkt_df.index, mkt_df[\"Non_BnB\"], color=\"C1\", marker=\"D\", ms=7, label='Non BnB')\n",
    "ax.yaxis.set_major_formatter(PercentFormatter())\n",
    "ax2.yaxis.set_major_formatter(PercentFormatter())\n",
    "\n",
    "ax.tick_params(axis=\"y\", colors=\"C0\")\n",
    "ax2.tick_params(axis=\"y\", colors=\"C1\")\n",
    "ax.set_xticks(range(len(mkt_df)))\n",
    "ax.set_xticklabels([item for item in mkt_df.index.tolist()], rotation=90);\n",
    "ax.legend()\n",
    "ax2.legend()\n",
    "plt.title(\"Pareto Bnb by Market\")\n",
    "plt.xlabel('Market')\n",
    "plt.show()"
   ]
  },
  {
   "cell_type": "code",
   "execution_count": 62,
   "metadata": {},
   "outputs": [
    {
     "ename": "TypeError",
     "evalue": "'MultiIndex' object is not callable",
     "output_type": "error",
     "traceback": [
      "\u001b[1;31m---------------------------------------------------------------------------\u001b[0m",
      "\u001b[1;31mTypeError\u001b[0m                                 Traceback (most recent call last)",
      "\u001b[1;32m<ipython-input-62-ae2bf1e46860>\u001b[0m in \u001b[0;36m<module>\u001b[1;34m\u001b[0m\n\u001b[0;32m      3\u001b[0m \u001b[0mfig\u001b[0m\u001b[1;33m,\u001b[0m \u001b[0max\u001b[0m \u001b[1;33m=\u001b[0m \u001b[0mplt\u001b[0m\u001b[1;33m.\u001b[0m\u001b[0msubplots\u001b[0m\u001b[1;33m(\u001b[0m\u001b[1;33m)\u001b[0m\u001b[1;33m\u001b[0m\u001b[1;33m\u001b[0m\u001b[0m\n\u001b[0;32m      4\u001b[0m \u001b[1;33m\u001b[0m\u001b[0m\n\u001b[1;32m----> 5\u001b[1;33m \u001b[0max\u001b[0m\u001b[1;33m.\u001b[0m\u001b[0mplot\u001b[0m\u001b[1;33m(\u001b[0m\u001b[0mval_trends_bar_df\u001b[0m\u001b[1;33m.\u001b[0m\u001b[0mindex\u001b[0m\u001b[1;33m(\u001b[0m\u001b[0mlevel\u001b[0m\u001b[1;33m=\u001b[0m\u001b[1;36m1\u001b[0m\u001b[1;33m)\u001b[0m\u001b[1;33m,\u001b[0m \u001b[0mval_trends_bar_df\u001b[0m\u001b[1;33m.\u001b[0m\u001b[0mBnB\u001b[0m\u001b[1;33m,\u001b[0m \u001b[1;34m'b'\u001b[0m\u001b[1;33m,\u001b[0m \u001b[0mlabel\u001b[0m\u001b[1;33m=\u001b[0m\u001b[1;34m'BnB'\u001b[0m\u001b[1;33m)\u001b[0m\u001b[1;33m\u001b[0m\u001b[1;33m\u001b[0m\u001b[0m\n\u001b[0m\u001b[0;32m      6\u001b[0m \u001b[0max\u001b[0m\u001b[1;33m.\u001b[0m\u001b[0mset_ylabel\u001b[0m\u001b[1;33m(\u001b[0m\u001b[1;34m'Variance of log wages'\u001b[0m\u001b[1;33m)\u001b[0m\u001b[1;33m\u001b[0m\u001b[1;33m\u001b[0m\u001b[0m\n\u001b[0;32m      7\u001b[0m \u001b[1;33m\u001b[0m\u001b[0m\n",
      "\u001b[1;31mTypeError\u001b[0m: 'MultiIndex' object is not callable"
     ]
    },
    {
     "data": {
      "image/png": "[encoded data removed]",
      "text/plain": [
       "<Figure size 432x288 with 1 Axes>"
      ]
     },
     "metadata": {
      "needs_background": "light"
     },
     "output_type": "display_data"
    }
   ],
   "source": [
    "#data = data.set_index(['quarter', 'company']).value\n",
    "#val_trends_bar_df = val_trends_bar_df.set_index(['year', 'quarter']).value\n",
    "fig, ax = plt.subplots()\n",
    "\n",
    "ax.plot(val_trends_bar_df.index(level=1), val_trends_bar_df.BnB, 'b', label='BnB')\n",
    "ax.set_ylabel('Variance of log wages')\n",
    "\n",
    "ax2 = ax.twinx()\n",
    "ax2.plot(val_trends_bar_df.index(level=1), val_trends_bar_df.Total, 'g' , label='Total')\n",
    "ax2.set_ylabel('Average age')\n",
    "\n",
    "lines = ax.get_lines() + ax2.get_lines()\n",
    "ax.legend(lines, [line.get_label() for line in lines], loc='upper center')\n",
    "\n",
    "ax.set_title('Wage Variance and Mean Age')\n",
    "plt.show()"
   ]
  },
  {
   "cell_type": "code",
   "execution_count": 42,
   "metadata": {},
   "outputs": [
    {
     "data": {
      "text/plain": [
       "year  quarter\n",
       "2018  1          31.9\n",
       "      2          29.5\n",
       "      3          36.5\n",
       "      4          68.6\n",
       "2019  1          82.9\n",
       "Name: Val_USD, dtype: object"
      ]
     },
     "execution_count": 42,
     "metadata": {},
     "output_type": "execute_result"
    }
   ],
   "source": [
    "only_bnb_df = sap_df[sap_df['Bnb_flag'] == 'BnB'].copy()\n",
    "val_trends_multi = round(only_bnb_df.groupby(['year', 'quarter'])['Val_USD'].sum() / 1000000, 1)\n",
    "val_trends_multi['cumupct'] = val_trends_multi.groupby(level=-1).cumsum()/val_trends_multi.groupby(level=-1).sum()*100\n",
    "val_trends_multi.head()\n",
    "\n",
    "#combined_df.groupby(level=-1)['cost'].cumsum()\n",
    "#only_bnb_df.head(2)\n",
    "# val_trends_multi = sap_df.groupby(['year', 'quarter', 'Bnb_flag'])['Val_USD'].sum()\n",
    "# df[\"cumpercentage\"] = df[\"country\"].cumsum()/df[\"country\"].sum()*100"
   ]
  },
  {
   "cell_type": "code",
   "execution_count": 54,
   "metadata": {},
   "outputs": [
    {
     "ename": "TypeError",
     "evalue": "unsupported operand type(s) for -: 'tuple' and 'float'",
     "output_type": "error",
     "traceback": [
      "\u001b[1;31m---------------------------------------------------------------------------\u001b[0m",
      "\u001b[1;31mTypeError\u001b[0m                                 Traceback (most recent call last)",
      "\u001b[1;32m<ipython-input-54-dd2ed8402b5b>\u001b[0m in \u001b[0;36m<module>\u001b[1;34m\u001b[0m\n\u001b[0;32m     10\u001b[0m \u001b[0mfig\u001b[0m\u001b[1;33m,\u001b[0m \u001b[0max\u001b[0m \u001b[1;33m=\u001b[0m \u001b[0mplt\u001b[0m\u001b[1;33m.\u001b[0m\u001b[0msubplots\u001b[0m\u001b[1;33m(\u001b[0m\u001b[1;33m)\u001b[0m\u001b[1;33m\u001b[0m\u001b[1;33m\u001b[0m\u001b[0m\n\u001b[0;32m     11\u001b[0m \u001b[1;33m\u001b[0m\u001b[0m\n\u001b[1;32m---> 12\u001b[1;33m \u001b[0max\u001b[0m\u001b[1;33m.\u001b[0m\u001b[0mbar\u001b[0m\u001b[1;33m(\u001b[0m\u001b[0mval_trends_bar_df\u001b[0m\u001b[1;33m.\u001b[0m\u001b[0mindex\u001b[0m\u001b[1;33m,\u001b[0m \u001b[0mval_trends_bar_df\u001b[0m\u001b[1;33m[\u001b[0m\u001b[1;34m\"BnB\"\u001b[0m\u001b[1;33m]\u001b[0m\u001b[1;33m,\u001b[0m \u001b[0mcolor\u001b[0m\u001b[1;33m=\u001b[0m\u001b[1;34m\"C0\"\u001b[0m\u001b[1;33m,\u001b[0m \u001b[0mlabel\u001b[0m\u001b[1;33m=\u001b[0m\u001b[1;34m'BnB'\u001b[0m\u001b[1;33m)\u001b[0m\u001b[1;33m\u001b[0m\u001b[1;33m\u001b[0m\u001b[0m\n\u001b[0m\u001b[0;32m     13\u001b[0m \u001b[1;31m# ax2 = ax.twinx()\u001b[0m\u001b[1;33m\u001b[0m\u001b[1;33m\u001b[0m\u001b[1;33m\u001b[0m\u001b[0m\n\u001b[0;32m     14\u001b[0m \u001b[1;31m# ax2.plot(mkt_df.index, mkt_df[\"Non_BnB\"], color=\"C1\", marker=\"D\", ms=7, label='Non BnB')\u001b[0m\u001b[1;33m\u001b[0m\u001b[1;33m\u001b[0m\u001b[1;33m\u001b[0m\u001b[0m\n",
      "\u001b[1;32m~\\AppData\\Local\\Continuum\\anaconda3\\lib\\site-packages\\matplotlib\\__init__.py\u001b[0m in \u001b[0;36minner\u001b[1;34m(ax, data, *args, **kwargs)\u001b[0m\n\u001b[0;32m   1808\u001b[0m                         \u001b[1;34m\"the Matplotlib list!)\"\u001b[0m \u001b[1;33m%\u001b[0m \u001b[1;33m(\u001b[0m\u001b[0mlabel_namer\u001b[0m\u001b[1;33m,\u001b[0m \u001b[0mfunc\u001b[0m\u001b[1;33m.\u001b[0m\u001b[0m__name__\u001b[0m\u001b[1;33m)\u001b[0m\u001b[1;33m,\u001b[0m\u001b[1;33m\u001b[0m\u001b[1;33m\u001b[0m\u001b[0m\n\u001b[0;32m   1809\u001b[0m                         RuntimeWarning, stacklevel=2)\n\u001b[1;32m-> 1810\u001b[1;33m             \u001b[1;32mreturn\u001b[0m \u001b[0mfunc\u001b[0m\u001b[1;33m(\u001b[0m\u001b[0max\u001b[0m\u001b[1;33m,\u001b[0m \u001b[1;33m*\u001b[0m\u001b[0margs\u001b[0m\u001b[1;33m,\u001b[0m \u001b[1;33m**\u001b[0m\u001b[0mkwargs\u001b[0m\u001b[1;33m)\u001b[0m\u001b[1;33m\u001b[0m\u001b[1;33m\u001b[0m\u001b[0m\n\u001b[0m\u001b[0;32m   1811\u001b[0m \u001b[1;33m\u001b[0m\u001b[0m\n\u001b[0;32m   1812\u001b[0m         inner.__doc__ = _add_data_doc(inner.__doc__,\n",
      "\u001b[1;32m~\\AppData\\Local\\Continuum\\anaconda3\\lib\\site-packages\\matplotlib\\axes\\_axes.py\u001b[0m in \u001b[0;36mbar\u001b[1;34m(self, x, height, width, bottom, align, **kwargs)\u001b[0m\n\u001b[0;32m   2275\u001b[0m         \u001b[1;32mif\u001b[0m \u001b[0malign\u001b[0m \u001b[1;33m==\u001b[0m \u001b[1;34m'center'\u001b[0m\u001b[1;33m:\u001b[0m\u001b[1;33m\u001b[0m\u001b[1;33m\u001b[0m\u001b[0m\n\u001b[0;32m   2276\u001b[0m             \u001b[1;32mif\u001b[0m \u001b[0morientation\u001b[0m \u001b[1;33m==\u001b[0m \u001b[1;34m'vertical'\u001b[0m\u001b[1;33m:\u001b[0m\u001b[1;33m\u001b[0m\u001b[1;33m\u001b[0m\u001b[0m\n\u001b[1;32m-> 2277\u001b[1;33m                 \u001b[0mleft\u001b[0m \u001b[1;33m=\u001b[0m \u001b[0mx\u001b[0m \u001b[1;33m-\u001b[0m \u001b[0mwidth\u001b[0m \u001b[1;33m/\u001b[0m \u001b[1;36m2\u001b[0m\u001b[1;33m\u001b[0m\u001b[1;33m\u001b[0m\u001b[0m\n\u001b[0m\u001b[0;32m   2278\u001b[0m                 \u001b[0mbottom\u001b[0m \u001b[1;33m=\u001b[0m \u001b[0my\u001b[0m\u001b[1;33m\u001b[0m\u001b[1;33m\u001b[0m\u001b[0m\n\u001b[0;32m   2279\u001b[0m             \u001b[1;32melif\u001b[0m \u001b[0morientation\u001b[0m \u001b[1;33m==\u001b[0m \u001b[1;34m'horizontal'\u001b[0m\u001b[1;33m:\u001b[0m\u001b[1;33m\u001b[0m\u001b[1;33m\u001b[0m\u001b[0m\n",
      "\u001b[1;31mTypeError\u001b[0m: unsupported operand type(s) for -: 'tuple' and 'float'"
     ]
    },
    {
     "data": {
      "image/png": "[encoded data removed]",
      "text/plain": [
       "<Figure size 432x288 with 1 Axes>"
      ]
     },
     "metadata": {
      "needs_background": "light"
     },
     "output_type": "display_data"
    }
   ],
   "source": [
    "# val_trends_bar = sap_df.groupby(['year', 'quarter', 'Bnb_flag'])['Val_USD'].sum() / 1000000\n",
    "# val_trends_bar_df = val_trends_bar.unstack('Bnb_flag')\n",
    "\n",
    "# mkt_df = round(100 * sap_df.groupby(['BMC Market'])['Bnb_flag'].value_counts(normalize=True)).unstack()\n",
    "\n",
    "#val_trends_bar_df = val_trends_bar.unstack('Bnb_flag')\n",
    "\n",
    "#df = df.sort_values(by='country',ascending=False)\n",
    "width=0.35\n",
    "fig, ax = plt.subplots()\n",
    "\n",
    "ax.bar(val_trends_bar_df.index, val_trends_bar_df[\"BnB\"], color=\"C0\", label='BnB')\n",
    "# ax2 = ax.twinx()\n",
    "# ax2.plot(mkt_df.index, mkt_df[\"Non_BnB\"], color=\"C1\", marker=\"D\", ms=7, label='Non BnB')\n",
    "# ax.yaxis.set_major_formatter(PercentFormatter())\n",
    "# ax2.yaxis.set_major_formatter(PercentFormatter())\n",
    "\n",
    "# ax.tick_params(axis=\"y\", colors=\"C0\")\n",
    "# ax2.tick_params(axis=\"y\", colors=\"C1\")\n",
    "# ax.set_xticks(range(len(mkt_df)))\n",
    "# ax.set_xticklabels([item for item in mkt_df.index.tolist()], rotation=90);\n",
    "ax.legend()\n",
    "#ax2.legend()\n",
    "plt.title(\"Pareto Bnb by Market\")\n",
    "plt.xlabel('Market')\n",
    "plt.show()"
   ]
  },
  {
   "cell_type": "code",
   "execution_count": null,
   "metadata": {},
   "outputs": [],
   "source": [
    "sap_df_plot = round(100 * sap_df.groupby(['year','quarter'])['Bnb_flag'].value_counts(normalize=True))\n",
    "plot_df = sap_df_plot.unstack('Bnb_flag')\n",
    "\n",
    "ax = plot_df.plot()\n",
    "ax.set_xticks(range(len(plot_df)));\n",
    "ax.set_xticklabels([item for item in plot_df.index.tolist()], rotation=90);\n",
    "\n",
    "plt.title('BnB vs Non BnB - 2017 to 2019')\n",
    "plt.xlabel('Year, Quarter')\n",
    "plt.ylabel('Percentage')"
   ]
  },
  {
   "cell_type": "markdown",
   "metadata": {},
   "source": [
    "#### Trend by Markets"
   ]
  },
  {
   "cell_type": "code",
   "execution_count": null,
   "metadata": {},
   "outputs": [],
   "source": [
    "sap_mkts = sap_df.groupby('BMC Market')\n",
    "for key, group in sap_mkts:\n",
    "    mkt_df = round(100 * group.groupby(['year','quarter'])['Bnb_flag'].value_counts(normalize=True))\n",
    "    plt_mkt = mkt_df.unstack('Bnb_flag')\n",
    "\n",
    "    ax = plt_mkt.plot()\n",
    "    ax.set_xticks(range(len(plt_mkt)));\n",
    "    ax.set_xticklabels([item for item in plt_mkt.index.tolist()], rotation=90);\n",
    "\n",
    "    plt.title('BnB vs Non BnB - 2017 to 2019 -> ' + key)\n",
    "    plt.xlabel('Year, Quarter')\n",
    "    plt.ylabel('Percentage')"
   ]
  },
  {
   "cell_type": "code",
   "execution_count": 79,
   "metadata": {},
   "outputs": [
    {
     "data": {
      "text/plain": [
       "BMC Market\n",
       "APAC              3.457146e+07\n",
       "Africa            6.650189e+06\n",
       "Benelux           2.559810e+07\n",
       "Central Europe    1.815433e+07\n",
       "DACH              5.530267e+07\n",
       "Name: Val_USD, dtype: float64"
      ]
     },
     "execution_count": 79,
     "metadata": {},
     "output_type": "execute_result"
    }
   ],
   "source": [
    "sap_mkts = sap_df.groupby('BMC Market')['Val_USD'].sum()\n",
    "sap_mkts.head()"
   ]
  },
  {
   "cell_type": "code",
   "execution_count": null,
   "metadata": {},
   "outputs": [],
   "source": [
    "#mkt_df.sort_values\n",
    "mkt_df = round(100 * sap_df.groupby(['BMC Market'])['Bnb_flag'].value_counts(normalize=True)).unstack()\n",
    "#mkt_df.sort_values('Bnb_flag', ascending=False)\n",
    "#mkt_df.sort_values(by = 'BnB', ascending=False)\n",
    "#mkt_df.sort_values(['BnB', 'Non_BnB'])\n",
    "#df = df.reindex_axis(sorted(df.columns, reverse=True), axis=1)\n",
    "mkt_df = mkt_df.sorted(mkt_df['BnB'], reverse=True)\n",
    "mkt_df.head()"
   ]
  },
  {
   "cell_type": "code",
   "execution_count": null,
   "metadata": {},
   "outputs": [],
   "source": [
    "df = pd.DataFrame({'country': [177.0, 7.0, 4.0, 2.0, 2.0, 1.0, 1.0, 1.0]})\n",
    "df.index = ['USA', 'Canada', 'Russia', 'UK', 'Belgium', 'Mexico', 'Germany', 'Denmark']\n",
    "df = df.sort_values(by='country',ascending=False)\n",
    "df[\"cumpercentage\"] = df[\"country\"].cumsum()/df[\"country\"].sum()*100\n",
    "df"
   ]
  },
  {
   "cell_type": "markdown",
   "metadata": {},
   "source": [
    "#### Pareto Chart"
   ]
  },
  {
   "cell_type": "code",
   "execution_count": null,
   "metadata": {},
   "outputs": [],
   "source": [
    "mkt_df = round(100 * sap_df.groupby(['BMC Market'])['Bnb_flag'].value_counts(normalize=True)).unstack()\n",
    "#df = df.sort_values(by='country',ascending=False)\n",
    "fig, ax = plt.subplots()\n",
    "\n",
    "ax.bar(mkt_df.index, mkt_df[\"BnB\"], color=\"C0\", label='BnB')\n",
    "ax2 = ax.twinx()\n",
    "ax2.plot(mkt_df.index, mkt_df[\"Non_BnB\"], color=\"C1\", marker=\"D\", ms=7, label='Non BnB')\n",
    "ax.yaxis.set_major_formatter(PercentFormatter())\n",
    "ax2.yaxis.set_major_formatter(PercentFormatter())\n",
    "\n",
    "ax.tick_params(axis=\"y\", colors=\"C0\")\n",
    "ax2.tick_params(axis=\"y\", colors=\"C1\")\n",
    "ax.set_xticks(range(len(mkt_df)))\n",
    "ax.set_xticklabels([item for item in mkt_df.index.tolist()], rotation=90);\n",
    "ax.legend()\n",
    "ax2.legend()\n",
    "plt.title(\"Pareto Bnb by Market\")\n",
    "plt.xlabel('Market')\n",
    "plt.show()"
   ]
  },
  {
   "cell_type": "code",
   "execution_count": null,
   "metadata": {},
   "outputs": [],
   "source": [
    "df = pd.DataFrame({'country': [177.0, 7.0, 4.0, 2.0, 2.0, 1.0, 1.0, 1.0]})\n",
    "df.index = ['USA', 'Canada', 'Russia', 'UK', 'Belgium', 'Mexico', 'Germany', 'Denmark']\n",
    "df = df.sort_values(by='country',ascending=False)\n",
    "df[\"cumpercentage\"] = df[\"country\"].cumsum()/df[\"country\"].sum()*100\n",
    "df"
   ]
  },
  {
   "cell_type": "markdown",
   "metadata": {},
   "source": [
    "### Section 2 - Exploring BnB data subset"
   ]
  },
  {
   "cell_type": "code",
   "execution_count": null,
   "metadata": {},
   "outputs": [],
   "source": [
    "bnb_df = sap_df[sap_df['Bnb_flag'] == 'BnB'].copy()"
   ]
  },
  {
   "cell_type": "code",
   "execution_count": null,
   "metadata": {},
   "outputs": [],
   "source": [
    "bnb_df['Creation date'] = bnb_df['Creation date'].astype('datetime64[D]')\n",
    "bnb_df['year'] = bnb_df['Creation date'].dt.year\n",
    "bnb_df['quarter'] = bnb_df['Creation date'].dt.quarter"
   ]
  },
  {
   "cell_type": "code",
   "execution_count": null,
   "metadata": {},
   "outputs": [],
   "source": [
    "# pct2019 = round(100 * df2019['Bnb_flag'].value_counts(normalize=True))\n",
    "# sap_df.groupby('Description')['Bnb_flag'].value_counts()\n",
    "bnb_df1819 = bnb_df[(bnb_df['year'] == 2018) | (bnb_df['year'] == 2019)].copy()\n",
    "bnb_market = round(100 * bnb_df1819.groupby(['year', 'quarter'])['BMC Market'].value_counts(normalize=True))"
   ]
  },
  {
   "cell_type": "code",
   "execution_count": null,
   "metadata": {},
   "outputs": [],
   "source": [
    "bnb_market = bnb_market.unstack()\n",
    "bnb_market.plot()\n",
    "plt.xticks()\n",
    "plt.show()"
   ]
  },
  {
   "cell_type": "code",
   "execution_count": null,
   "metadata": {},
   "outputs": [],
   "source": [
    "plt.figure()\n",
    "round(100 * bnb_df1819.groupby(['year', 'quarter'])['BMC Market'].value_counts(normalize=True)).unstack().plot()\n",
    "#df.groupby(['Year','Fungicide']).sum().unstack().plot()"
   ]
  },
  {
   "cell_type": "code",
   "execution_count": null,
   "metadata": {},
   "outputs": [],
   "source": [
    "\n",
    "#bnb_market.plot.line()\n",
    "#apple_fplot = df.groupby(['Year','Fungicide'])['Value'].sum()\n",
    "plot_df = bnb_market.unstack('quarter').loc[:, 'BMC Market']\n",
    "plot_df.head()\n",
    "#plot_df.index = pd.PeriodIndex(plot_df.index.tolist(), freq='A')\n",
    "#plot_df.plot()"
   ]
  },
  {
   "cell_type": "code",
   "execution_count": null,
   "metadata": {},
   "outputs": [],
   "source": [
    "#df.groupby(by=[df.index.year, df.index.quarter]).mean().plot(kind='bar')\n",
    "bnb_df.groupby(by=[bnb_df.year, bnb_df.quarter]).mean().plot(kind='bar')"
   ]
  },
  {
   "cell_type": "code",
   "execution_count": null,
   "metadata": {},
   "outputs": [],
   "source": [
    "bnb_df['Year'] = dt.strptime(bnb_df['Creation date'], '%m/%d/%Y').date().year\n",
    "bnb_df.head(2)"
   ]
  },
  {
   "cell_type": "code",
   "execution_count": null,
   "metadata": {},
   "outputs": [],
   "source": [
    "\n",
    "prods_pct = round(100 * bnb_df['Description'].value_counts(normalize=True))\n",
    "prods_pct"
   ]
  },
  {
   "cell_type": "code",
   "execution_count": null,
   "metadata": {},
   "outputs": [],
   "source": [
    "#bnb_df = sap_df[sap_df['Bnb_flag'] == 'BnB']\n",
    "test = bnb_df['Description'].value_counts()\n",
    "test"
   ]
  },
  {
   "cell_type": "code",
   "execution_count": null,
   "metadata": {},
   "outputs": [],
   "source": [
    "## BnB orders Classifying by desciption\n",
    "\n",
    "prods_10pct = prods_pct[prods_pct>=3]\n",
    "\n",
    "prods_10pct.plot.pie(y=prods_10pct.index,\n",
    "           shadow=False,\n",
    "           startangle=90,\n",
    "           autopct='%1.1f%%')\n",
    "\n",
    "plt.axis('equal')\n",
    "plt.tight_layout()\n",
    "plt.title('Percentage of top BnB products')\n",
    "plt.ylabel('')\n",
    "plt.show()"
   ]
  },
  {
   "cell_type": "code",
   "execution_count": null,
   "metadata": {},
   "outputs": [],
   "source": [
    "cust_pct = round(100 * bnb_df['Sold-to_party'].value_counts(normalize=True))\n",
    "cust_pct"
   ]
  },
  {
   "cell_type": "code",
   "execution_count": null,
   "metadata": {},
   "outputs": [],
   "source": [
    "test1 = bnb_df['Sold-to_party'].value_counts()\n",
    "test1"
   ]
  },
  {
   "cell_type": "code",
   "execution_count": null,
   "metadata": {},
   "outputs": [],
   "source": [
    "## Top customers ordering BnB\n",
    "cust_pct = round(100 * bnb_df['Sold-to_party'].value_counts(normalize=True))\n",
    "#cust_5pct = cust_pct[cust_pct >= 3]\n",
    "\n",
    "cust_pct.plot.pie(y=cust_pct.index,\n",
    "           shadow=False,\n",
    "           startangle=90,\n",
    "           autopct='%1.1f%%')\n",
    "\n",
    "plt.axis('equal')\n",
    "plt.tight_layout()\n",
    "plt.title('Percentage of Top Customers ordering Bnb')\n",
    "plt.ylabel('')\n",
    "plt.show()"
   ]
  },
  {
   "cell_type": "code",
   "execution_count": null,
   "metadata": {},
   "outputs": [],
   "source": [
    "mkt_pct = round(100 * bnb_df['BMC Market'].value_counts(normalize=True))\n",
    "mkt_pct"
   ]
  },
  {
   "cell_type": "code",
   "execution_count": null,
   "metadata": {},
   "outputs": [],
   "source": [
    "test2 = bnb_df['BMC Market'].value_counts()\n",
    "test2"
   ]
  },
  {
   "cell_type": "code",
   "execution_count": null,
   "metadata": {},
   "outputs": [],
   "source": [
    "mkt_pct = round(100 * bnb_df['BMC Market'].value_counts(normalize=True))\n",
    "mkt_pct.plot.bar()\n",
    "\n",
    "\n",
    "# cust_pct.plot.pie(y=cust_pct.index,\n",
    "#            shadow=False,\n",
    "#            startangle=90,\n",
    "#            autopct='%1.1f%%')\n",
    "\n",
    "#plt.tight_layout()\n",
    "plt.title('Percentage of Top Markets ordering Bnb')\n",
    "plt.ylabel('')\n",
    "\n",
    "ax = mkt_pct.plot(kind='bar')\n",
    "def autolabel(rects, ax):\n",
    "    for rect in rects:\n",
    "        x = rect.get_x() + rect.get_width()/2.\n",
    "        y = rect.get_height()\n",
    "        ax.annotate(\"{}\".format(y), (x,y), xytext=(0,5), textcoords=\"offset points\",\n",
    "                    ha='center', va='bottom')\n",
    "\n",
    "autolabel(ax.patches,ax)\n",
    "\n",
    "ax.margins(y=0.1)\n",
    "plt.show()"
   ]
  },
  {
   "cell_type": "code",
   "execution_count": null,
   "metadata": {},
   "outputs": [],
   "source": [
    "bnbs = sap_df[sap_df['Bnb_flag'] == 'BnB']\n",
    "funnels = sap_df[sap_df['Bnb_flag'] == 'Non_BnB']\n",
    "\n",
    "set_bnb = set(bnbs['Sold-to_party'])\n",
    "set_funnel = set(funnels['Sold-to_party'])"
   ]
  },
  {
   "cell_type": "code",
   "execution_count": null,
   "metadata": {},
   "outputs": [],
   "source": [
    "intersec = set_bnb.intersection(set_funnel)\n",
    "print(\"Customers who order both BnB and Funnel \" + str(len(intersec)))\n",
    "only_bnb = set_bnb.difference(set_funnel)\n",
    "print(\"Customers who only order BnB \" + str(len(only_bnb)))\n",
    "only_funnel = set_funnel.difference(set_bnb)\n",
    "print(\"Customers who order only Funnel \" + str(len(only_funnel)))\n",
    "total = set_bnb.union(set_funnel)\n",
    "print(\"Total unique customers \" + str(len(total)))"
   ]
  },
  {
   "cell_type": "code",
   "execution_count": null,
   "metadata": {},
   "outputs": [],
   "source": [
    "# venn3([set1, set2, set3], ('Set1', 'Set2', 'Set3'))\n",
    "\n",
    "venn2([set_bnb, set_funnel], ('BnB', 'Non BnB'))\n",
    "plt.show()"
   ]
  },
  {
   "cell_type": "code",
   "execution_count": null,
   "metadata": {},
   "outputs": [],
   "source": [
    "bnbs = sap_df[sap_df['Bnb_flag'] == 'BnB']\n",
    "funnels = sap_df[sap_df['Bnb_flag'] == 'Non_BnB']\n",
    "\n",
    "set_bnb_prod = set(bnbs['Description'])\n",
    "set_funnel_prod = set(funnels['Description'])\n",
    "\n",
    "\n",
    "intersec1 = set_bnb_prod.intersection(set_funnel_prod)\n",
    "print(\"Products which are under both BnB and Funnel \" + str(len(intersec1)))\n",
    "only_bnb1 = set_bnb_prod.difference(set_funnel_prod)\n",
    "print(\"Products which are only order BnB \" + str(len(only_bnb1)))\n",
    "only_funnel1 = set_funnel_prod.difference(set_bnb_prod)\n",
    "print(\"Products which are only Funnel \" + str(len(only_funnel1)))\n",
    "total1 = set_bnb_prod.union(set_funnel_prod)\n",
    "print(\"Total unique products \" + str(len(total1)))"
   ]
  },
  {
   "cell_type": "markdown",
   "metadata": {},
   "source": [
    "------------------------------------------------------------------------------------\n",
    "#### Work in progress"
   ]
  },
  {
   "cell_type": "code",
   "execution_count": null,
   "metadata": {},
   "outputs": [],
   "source": [
    "sap_df.groupby('Description')['Bnb_flag'].value_counts()"
   ]
  },
  {
   "cell_type": "code",
   "execution_count": null,
   "metadata": {},
   "outputs": [],
   "source": [
    "sap_df.groupby('Sold-to_party')['Bnb_flag'].value_counts()"
   ]
  },
  {
   "cell_type": "code",
   "execution_count": null,
   "metadata": {},
   "outputs": [],
   "source": [
    "sap_df['Sold-to_party'].value_counts()"
   ]
  },
  {
   "cell_type": "code",
   "execution_count": null,
   "metadata": {},
   "outputs": [],
   "source": [
    "by_val = bnb_df.groupby('Description')['Val_USD'].sum()\n",
    "val_50k = by_val[by_val >= 50000]\n",
    "\n",
    "val_50k"
   ]
  },
  {
   "cell_type": "code",
   "execution_count": null,
   "metadata": {},
   "outputs": [],
   "source": [
    "val_50k.plot.bar()"
   ]
  },
  {
   "cell_type": "code",
   "execution_count": null,
   "metadata": {},
   "outputs": [],
   "source": [
    "## Save file\n",
    "path = r\"C:\\Users\\320054667\\OneDrive - Philips\\Work\\Project\\UltraSound\\BookNBill\\Tagged1819.xlsx\"\n",
    "writer = pd.ExcelWriter(path, engine='xlsxwriter')\n",
    "sap_df.to_excel(writer, sheet_name='Sheet1')\n",
    "writer.save()\n",
    "writer.close()"
   ]
  },
  {
   "cell_type": "code",
   "execution_count": 72,
   "metadata": {},
   "outputs": [
    {
     "data": {
      "text/html": [
       "<div>\n",
       "<style scoped>\n",
       "    .dataframe tbody tr th:only-of-type {\n",
       "        vertical-align: middle;\n",
       "    }\n",
       "\n",
       "    .dataframe tbody tr th {\n",
       "        vertical-align: top;\n",
       "    }\n",
       "\n",
       "    .dataframe thead th {\n",
       "        text-align: right;\n",
       "    }\n",
       "</style>\n",
       "<table border=\"1\" class=\"dataframe\">\n",
       "  <thead>\n",
       "    <tr style=\"text-align: right;\">\n",
       "      <th></th>\n",
       "      <th>BMC Market</th>\n",
       "      <th>Comp_code_Sales</th>\n",
       "      <th>Country</th>\n",
       "      <th>Sold-to_party</th>\n",
       "      <th>Description</th>\n",
       "      <th>Sales order</th>\n",
       "      <th>First Fin Bill Date</th>\n",
       "      <th>Local Currency</th>\n",
       "      <th>Creation date</th>\n",
       "      <th>Total OIT Value (DC)</th>\n",
       "      <th>Bnb_flag</th>\n",
       "      <th>System</th>\n",
       "      <th>Category</th>\n",
       "      <th>USD</th>\n",
       "      <th>Val_USD</th>\n",
       "      <th>year</th>\n",
       "      <th>quarter</th>\n",
       "    </tr>\n",
       "  </thead>\n",
       "  <tbody>\n",
       "    <tr>\n",
       "      <th>0</th>\n",
       "      <td>Africa</td>\n",
       "      <td>H0_EG90</td>\n",
       "      <td>EGYPT LLC</td>\n",
       "      <td>???? ????? ????????</td>\n",
       "      <td>AFFINITI 50 ULTRASOUND SYSTEM</td>\n",
       "      <td>H0_6600378541</td>\n",
       "      <td>5/2/2018</td>\n",
       "      <td>USD</td>\n",
       "      <td>2018-01-31</td>\n",
       "      <td>48000.0</td>\n",
       "      <td>Non_BnB</td>\n",
       "      <td>System</td>\n",
       "      <td>Affiniti</td>\n",
       "      <td>1.000000</td>\n",
       "      <td>48000.0</td>\n",
       "      <td>2018</td>\n",
       "      <td>1</td>\n",
       "    </tr>\n",
       "    <tr>\n",
       "      <th>2</th>\n",
       "      <td>Africa</td>\n",
       "      <td>H0_ZA91</td>\n",
       "      <td>SOUTH AFRICA</td>\n",
       "      <td>Life Healthcare Group t/a Rosepark</td>\n",
       "      <td>AFFINITI 70 UPGRADE</td>\n",
       "      <td>H0_6600376874</td>\n",
       "      <td>3/29/2018</td>\n",
       "      <td>ZAR</td>\n",
       "      <td>2018-01-22</td>\n",
       "      <td>196240.0</td>\n",
       "      <td>BnB</td>\n",
       "      <td>Upgrade</td>\n",
       "      <td>Affiniti</td>\n",
       "      <td>0.069324</td>\n",
       "      <td>13736.8</td>\n",
       "      <td>2018</td>\n",
       "      <td>1</td>\n",
       "    </tr>\n",
       "    <tr>\n",
       "      <th>3</th>\n",
       "      <td>Africa</td>\n",
       "      <td>H0_ZA91</td>\n",
       "      <td>SOUTH AFRICA</td>\n",
       "      <td>Life Healthcare Group t/a Rosepark</td>\n",
       "      <td>CLEARVUE 650 ULTRASOUND SYSTEM</td>\n",
       "      <td>H0_6600380813</td>\n",
       "      <td>3/29/2018</td>\n",
       "      <td>ZAR</td>\n",
       "      <td>2018-01-29</td>\n",
       "      <td>278000.0</td>\n",
       "      <td>BnB</td>\n",
       "      <td>System</td>\n",
       "      <td>Clearvue</td>\n",
       "      <td>0.069324</td>\n",
       "      <td>19460.0</td>\n",
       "      <td>2018</td>\n",
       "      <td>1</td>\n",
       "    </tr>\n",
       "    <tr>\n",
       "      <th>4</th>\n",
       "      <td>Africa</td>\n",
       "      <td>H0_ZA91</td>\n",
       "      <td>SOUTH AFRICA</td>\n",
       "      <td>Netcare St. Anne's Hospital</td>\n",
       "      <td>QLAB</td>\n",
       "      <td>H0_6600376873</td>\n",
       "      <td>2/28/2018</td>\n",
       "      <td>ZAR</td>\n",
       "      <td>2018-01-22</td>\n",
       "      <td>23460.0</td>\n",
       "      <td>BnB</td>\n",
       "      <td>Others</td>\n",
       "      <td>Others</td>\n",
       "      <td>0.069324</td>\n",
       "      <td>1642.2</td>\n",
       "      <td>2018</td>\n",
       "      <td>1</td>\n",
       "    </tr>\n",
       "    <tr>\n",
       "      <th>5</th>\n",
       "      <td>Africa</td>\n",
       "      <td>H0_ZA91</td>\n",
       "      <td>SOUTH AFRICA</td>\n",
       "      <td>Netcare St. Anne's Hospital</td>\n",
       "      <td>CX50 ULTRASOUND SYSTEM</td>\n",
       "      <td>H0_6600376873</td>\n",
       "      <td>2/28/2018</td>\n",
       "      <td>ZAR</td>\n",
       "      <td>2018-01-22</td>\n",
       "      <td>725010.0</td>\n",
       "      <td>BnB</td>\n",
       "      <td>System</td>\n",
       "      <td>CX50</td>\n",
       "      <td>0.069324</td>\n",
       "      <td>50750.7</td>\n",
       "      <td>2018</td>\n",
       "      <td>1</td>\n",
       "    </tr>\n",
       "  </tbody>\n",
       "</table>\n",
       "</div>"
      ],
      "text/plain": [
       "  BMC Market Comp_code_Sales       Country  \\\n",
       "0     Africa         H0_EG90     EGYPT LLC   \n",
       "2     Africa         H0_ZA91  SOUTH AFRICA   \n",
       "3     Africa         H0_ZA91  SOUTH AFRICA   \n",
       "4     Africa         H0_ZA91  SOUTH AFRICA   \n",
       "5     Africa         H0_ZA91  SOUTH AFRICA   \n",
       "\n",
       "                        Sold-to_party                     Description  \\\n",
       "0                 ???? ????? ????????   AFFINITI 50 ULTRASOUND SYSTEM   \n",
       "2  Life Healthcare Group t/a Rosepark             AFFINITI 70 UPGRADE   \n",
       "3  Life Healthcare Group t/a Rosepark  CLEARVUE 650 ULTRASOUND SYSTEM   \n",
       "4         Netcare St. Anne's Hospital                            QLAB   \n",
       "5         Netcare St. Anne's Hospital          CX50 ULTRASOUND SYSTEM   \n",
       "\n",
       "     Sales order First Fin Bill Date Local Currency Creation date  \\\n",
       "0  H0_6600378541            5/2/2018            USD    2018-01-31   \n",
       "2  H0_6600376874           3/29/2018            ZAR    2018-01-22   \n",
       "3  H0_6600380813           3/29/2018            ZAR    2018-01-29   \n",
       "4  H0_6600376873           2/28/2018            ZAR    2018-01-22   \n",
       "5  H0_6600376873           2/28/2018            ZAR    2018-01-22   \n",
       "\n",
       "   Total OIT Value (DC) Bnb_flag   System  Category       USD  Val_USD  year  \\\n",
       "0               48000.0  Non_BnB   System  Affiniti  1.000000  48000.0  2018   \n",
       "2              196240.0      BnB  Upgrade  Affiniti  0.069324  13736.8  2018   \n",
       "3              278000.0      BnB   System  Clearvue  0.069324  19460.0  2018   \n",
       "4               23460.0      BnB   Others    Others  0.069324   1642.2  2018   \n",
       "5              725010.0      BnB   System      CX50  0.069324  50750.7  2018   \n",
       "\n",
       "   quarter  \n",
       "0        1  \n",
       "2        1  \n",
       "3        1  \n",
       "4        1  \n",
       "5        1  "
      ]
     },
     "execution_count": 72,
     "metadata": {},
     "output_type": "execute_result"
    }
   ],
   "source": [
    "sap_df.head()"
   ]
  },
  {
   "cell_type": "code",
   "execution_count": 73,
   "metadata": {},
   "outputs": [],
   "source": [
    "## Save file\n",
    "path = r\"C:\\Users\\320054667\\OneDrive - Philips\\Work\\Project\\UltraSound\\BookNBill\\Classified_bnb.xlsx\"\n",
    "writer = pd.ExcelWriter(path, engine='xlsxwriter')\n",
    "sap_df.to_excel(writer, sheet_name='Sheet1')\n",
    "writer.save()\n",
    "writer.close()"
   ]
  },
  {
   "cell_type": "code",
   "execution_count": null,
   "metadata": {},
   "outputs": [],
   "source": [
    "from IPython.core.magic import register_line_magic\n",
    "\n",
    "@register_line_magic\n",
    "def pip(args):\n",
    "    \"\"\"Use pip from the current kernel\"\"\"\n",
    "    from pip import main\n",
    "    main(args.split())"
   ]
  },
  {
   "cell_type": "code",
   "execution_count": null,
   "metadata": {},
   "outputs": [],
   "source": [
    "%pip install %matplotlib_venn"
   ]
  },
  {
   "cell_type": "code",
   "execution_count": null,
   "metadata": {},
   "outputs": [],
   "source": [
    "!pip install matplotlib-venn"
   ]
  }
 ],
 "metadata": {
  "kernelspec": {
   "display_name": "Python 3",
   "language": "python",
   "name": "python3"
  },
  "language_info": {
   "codemirror_mode": {
    "name": "ipython",
    "version": 3
   },
   "file_extension": ".py",
   "mimetype": "text/x-python",
   "name": "python",
   "nbconvert_exporter": "python",
   "pygments_lexer": "ipython3",
   "version": "3.7.1"
  }
 },
 "nbformat": 4,
 "nbformat_minor": 2
}
