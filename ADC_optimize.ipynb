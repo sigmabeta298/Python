{
 "cells": [
  {
   "cell_type": "code",
   "execution_count": 5,
   "metadata": {},
   "outputs": [],
   "source": [
    "import pandas as pd\n",
    "import numpy as np\n",
    "from datetime import datetime as dt\n",
    "import time"
   ]
  },
  {
   "cell_type": "code",
   "execution_count": 3,
   "metadata": {},
   "outputs": [
    {
     "data": {
      "text/html": [
       "<div>\n",
       "<style scoped>\n",
       "    .dataframe tbody tr th:only-of-type {\n",
       "        vertical-align: middle;\n",
       "    }\n",
       "\n",
       "    .dataframe tbody tr th {\n",
       "        vertical-align: top;\n",
       "    }\n",
       "\n",
       "    .dataframe thead th {\n",
       "        text-align: right;\n",
       "    }\n",
       "</style>\n",
       "<table border=\"1\" class=\"dataframe\">\n",
       "  <thead>\n",
       "    <tr style=\"text-align: right;\">\n",
       "      <th></th>\n",
       "      <th>Plnt</th>\n",
       "      <th>Material</th>\n",
       "      <th>Month</th>\n",
       "      <th>Total_cost</th>\n",
       "    </tr>\n",
       "  </thead>\n",
       "  <tbody>\n",
       "    <tr>\n",
       "      <th>0</th>\n",
       "      <td>NL92</td>\n",
       "      <td>12204310004</td>\n",
       "      <td>5</td>\n",
       "      <td>0.00</td>\n",
       "    </tr>\n",
       "    <tr>\n",
       "      <th>1</th>\n",
       "      <td>NL92</td>\n",
       "      <td>12204310004</td>\n",
       "      <td>7</td>\n",
       "      <td>738.40</td>\n",
       "    </tr>\n",
       "    <tr>\n",
       "      <th>2</th>\n",
       "      <td>NL92</td>\n",
       "      <td>32210700233</td>\n",
       "      <td>3</td>\n",
       "      <td>199.68</td>\n",
       "    </tr>\n",
       "    <tr>\n",
       "      <th>3</th>\n",
       "      <td>NL92</td>\n",
       "      <td>32210700233</td>\n",
       "      <td>4</td>\n",
       "      <td>193.44</td>\n",
       "    </tr>\n",
       "    <tr>\n",
       "      <th>4</th>\n",
       "      <td>NL92</td>\n",
       "      <td>32210700233</td>\n",
       "      <td>5</td>\n",
       "      <td>199.68</td>\n",
       "    </tr>\n",
       "  </tbody>\n",
       "</table>\n",
       "</div>"
      ],
      "text/plain": [
       "   Plnt     Material  Month  Total_cost\n",
       "0  NL92  12204310004      5        0.00\n",
       "1  NL92  12204310004      7      738.40\n",
       "2  NL92  32210700233      3      199.68\n",
       "3  NL92  32210700233      4      193.44\n",
       "4  NL92  32210700233      5      199.68"
      ]
     },
     "execution_count": 3,
     "metadata": {},
     "output_type": "execute_result"
    }
   ],
   "source": [
    "input_df = pd.read_excel(\"temp.xlsx\", sheet_name=\"Sheet1\")\n",
    "input_df.head()"
   ]
  },
  {
   "cell_type": "code",
   "execution_count": 6,
   "metadata": {},
   "outputs": [
    {
     "name": "stdout",
     "output_type": "stream",
     "text": [
      "0.1894969940185547\n"
     ]
    },
    {
     "data": {
      "text/html": [
       "<div>\n",
       "<style scoped>\n",
       "    .dataframe tbody tr th:only-of-type {\n",
       "        vertical-align: middle;\n",
       "    }\n",
       "\n",
       "    .dataframe tbody tr th {\n",
       "        vertical-align: top;\n",
       "    }\n",
       "\n",
       "    .dataframe thead th {\n",
       "        text-align: right;\n",
       "    }\n",
       "</style>\n",
       "<table border=\"1\" class=\"dataframe\">\n",
       "  <thead>\n",
       "    <tr style=\"text-align: right;\">\n",
       "      <th></th>\n",
       "      <th>Plnt</th>\n",
       "      <th>Material</th>\n",
       "      <th>Month</th>\n",
       "      <th>Total_cost</th>\n",
       "      <th>ADC</th>\n",
       "    </tr>\n",
       "  </thead>\n",
       "  <tbody>\n",
       "    <tr>\n",
       "      <th>0</th>\n",
       "      <td>NL92</td>\n",
       "      <td>12204310004</td>\n",
       "      <td>5</td>\n",
       "      <td>0.00</td>\n",
       "      <td>738.40</td>\n",
       "    </tr>\n",
       "    <tr>\n",
       "      <th>1</th>\n",
       "      <td>NL92</td>\n",
       "      <td>12204310004</td>\n",
       "      <td>7</td>\n",
       "      <td>738.40</td>\n",
       "      <td>0.00</td>\n",
       "    </tr>\n",
       "    <tr>\n",
       "      <th>2</th>\n",
       "      <td>NL92</td>\n",
       "      <td>32210700233</td>\n",
       "      <td>3</td>\n",
       "      <td>199.68</td>\n",
       "      <td>580.32</td>\n",
       "    </tr>\n",
       "    <tr>\n",
       "      <th>3</th>\n",
       "      <td>NL92</td>\n",
       "      <td>32210700233</td>\n",
       "      <td>4</td>\n",
       "      <td>193.44</td>\n",
       "      <td>555.36</td>\n",
       "    </tr>\n",
       "    <tr>\n",
       "      <th>4</th>\n",
       "      <td>NL92</td>\n",
       "      <td>32210700233</td>\n",
       "      <td>5</td>\n",
       "      <td>199.68</td>\n",
       "      <td>542.88</td>\n",
       "    </tr>\n",
       "  </tbody>\n",
       "</table>\n",
       "</div>"
      ],
      "text/plain": [
       "   Plnt     Material  Month  Total_cost     ADC\n",
       "0  NL92  12204310004      5        0.00  738.40\n",
       "1  NL92  12204310004      7      738.40    0.00\n",
       "2  NL92  32210700233      3      199.68  580.32\n",
       "3  NL92  32210700233      4      193.44  555.36\n",
       "4  NL92  32210700233      5      199.68  542.88"
      ]
     },
     "execution_count": 6,
     "metadata": {},
     "output_type": "execute_result"
    }
   ],
   "source": [
    "##TODO needs further optimiation\n",
    "def calc_3magg(row):\n",
    "    month_no = row['Month']\n",
    "    plant = row['Plnt']\n",
    "    mat = row['Material']\n",
    "    \n",
    "    np3 = [month_no + 1, month_no + 2, month_no + 3]\n",
    "\n",
    "    m3sum = input_df.loc[(input_df['Plnt'] == plant) & (input_df['Material'] == mat) & (input_df['Month'].isin(np3))]['Total_cost'].agg('sum')\n",
    "   \n",
    "    return (m3sum)\n",
    "    \n",
    "start = time.time()\n",
    "input_df['ADC'] = input_df.apply(calc_3magg, axis=1)\n",
    "end = time.time()\n",
    "print(end - start)\n",
    "input_df.head()\n"
   ]
  }
 ],
 "metadata": {
  "kernelspec": {
   "display_name": "Python 3",
   "language": "python",
   "name": "python3"
  },
  "language_info": {
   "codemirror_mode": {
    "name": "ipython",
    "version": 3
   },
   "file_extension": ".py",
   "mimetype": "text/x-python",
   "name": "python",
   "nbconvert_exporter": "python",
   "pygments_lexer": "ipython3",
   "version": "3.7.1"
  }
 },
 "nbformat": 4,
 "nbformat_minor": 2
}
