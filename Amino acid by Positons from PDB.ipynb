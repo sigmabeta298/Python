{
 "cells": [
  {
   "cell_type": "code",
   "execution_count": 17,
   "metadata": {},
   "outputs": [],
   "source": [
    "from Bio.PDB import *\n",
    "import pandas as pd\n",
    "parser = PDBParser()\n",
    "structure = parser.get_structure('Man', 'Data_files/PDB_files/man_pi_finalrenumber.pdb')\n",
    "chain = structure[0]['A']\n",
    "\n",
    "positions = []\n",
    "residue_names = []\n",
    "for i in chain.get_residues():\n",
    "    positions.append(i.id[1])\n",
    "    residue_names.append(i.get_resname())\n",
    "    \n",
    "df = pd.DataFrame()\n",
    "df['Position'] = positions\n",
    "df['Residues'] = residue_names\n",
    "\n",
    "df.to_excel('Position_AA.xlsx', sheet_name = 'Sheet1')\n"
   ]
  }
 ],
 "metadata": {
  "kernelspec": {
   "display_name": "Python 3",
   "language": "python",
   "name": "python3"
  },
  "language_info": {
   "codemirror_mode": {
    "name": "ipython",
    "version": 3
   },
   "file_extension": ".py",
   "mimetype": "text/x-python",
   "name": "python",
   "nbconvert_exporter": "python",
   "pygments_lexer": "ipython3",
   "version": "3.5.5"
  }
 },
 "nbformat": 4,
 "nbformat_minor": 2
}
