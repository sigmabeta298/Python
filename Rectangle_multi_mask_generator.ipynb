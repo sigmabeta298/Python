{
 "cells": [
  {
   "cell_type": "markdown",
   "metadata": {},
   "source": [
    "## Tool to generate retangle shaped image masks\n",
    "##### __Author__: Syamanthaka B\n",
    "##### __Date created__: 6th Aug 2019\n",
    "##### __Last modified__: 7th Aug 2019\n",
    "-------------------------------------------------------------------------------------\n",
    "\n",
    "##### Libraries required"
   ]
  },
  {
   "cell_type": "code",
   "execution_count": 1,
   "metadata": {},
   "outputs": [],
   "source": [
    "import argparse\n",
    "import cv2\n",
    "import numpy as np\n",
    "import random as rng\n",
    "import matplotlib.pyplot as plt\n",
    "%matplotlib inline"
   ]
  },
  {
   "cell_type": "markdown",
   "metadata": {},
   "source": [
    "##### Function to make the rectangle drawing on original image"
   ]
  },
  {
   "cell_type": "code",
   "execution_count": 2,
   "metadata": {},
   "outputs": [],
   "source": [
    "# initialize the list of reference points and boolean indicating\n",
    "# whether cropping is being performed or not\n",
    "refPt = []\n",
    "cropping = False\n",
    " \n",
    "def click_and_crop(event, x, y, flags, param):\n",
    "    # grab references to the global variables\n",
    "    global refPt, cropping\n",
    " \n",
    "    # if the left mouse button was clicked, record the starting\n",
    "    # (x, y) coordinates and indicate that cropping is being\n",
    "    # performed\n",
    "    if event == cv2.EVENT_LBUTTONDOWN:\n",
    "        refPt = [(x, y)]\n",
    "        cropping = True\n",
    " \n",
    "    # check to see if the left mouse button was released\n",
    "    elif event == cv2.EVENT_LBUTTONUP:\n",
    "        # record the ending (x, y) coordinates and indicate that\n",
    "        # the cropping operation is finished\n",
    "        refPt.append((x, y))\n",
    "        cropping = False\n",
    "        #print(refPt)\n",
    "         \n",
    " \n",
    "        # draw a rectangle around the region of interest\n",
    "        cv2.rectangle(image, refPt[0], refPt[1], (0, 0, 0), 2)\n",
    "        cv2.imshow(\"image\", image)\n",
    "        \n",
    "        \n",
    "###################################################################################################"
   ]
  },
  {
   "cell_type": "markdown",
   "metadata": {},
   "source": [
    "#### Opens required image\n",
    "* Click and drag around area of interest to draw a black rectangle\n",
    "* Press key r to reset the drawing area\n",
    "* Press key m to generate a mask for the first time\n",
    "* Draw more boxes as required and after each box press key p to generate a mask with multiple selections\n",
    "* Press key c to copy last selected region of interest\n",
    "* Press key s to save the image as mask in the same folder.\n",
    "* Key q is the option to quit and close the images, but is currently buggy."
   ]
  },
  {
   "cell_type": "code",
   "execution_count": 36,
   "metadata": {},
   "outputs": [],
   "source": [
    "# load the image, clone it, and setup the mouse callback function\n",
    "img_filepath = 'data/membrane/train/image/'\n",
    "mask_filepath = 'data/membrane/train/label/'\n",
    "ipfile_name = '29.png'\n",
    "ipfile = img_filepath + ipfile_name\n",
    "image = cv2.imread(ipfile)\n",
    "clone = image.copy()\n",
    "cv2.namedWindow(\"image\")\n",
    "cv2.setMouseCallback(\"image\", click_and_crop)\n",
    "\n",
    "# keep looping until the 'q' key is pressed\n",
    "while True:\n",
    "    # display the image and wait for a keypress\n",
    "    cv2.imshow(\"image\", image)\n",
    "    key = cv2.waitKey(1) & 0xFF\n",
    " \n",
    "    # if the 'r' key is pressed, reset the cropping region\n",
    "    if key == ord(\"r\"):\n",
    "        image = clone.copy()\n",
    "        \n",
    "    # if key 'm' is pressed, generate mask\n",
    "    elif key == ord(\"m\"):\n",
    "        img = np.zeros((image.shape[0],image.shape[1],image.ndim), np.uint8)\n",
    "        cv2.rectangle(img,refPt[0],refPt[1],(255,255,255),-1)\n",
    "        cv2.imshow(\"Mask\", img)\n",
    "        \n",
    "    elif key == ord(\"p\"):\n",
    "        cv2.rectangle(img,refPt[0],refPt[1],(255,255,255),-1)\n",
    "        cv2.imshow(\"PolyMask\", img)\n",
    "        \n",
    "    elif key == ord(\"s\"):\n",
    "        filename = mask_filepath + ipfile_name\n",
    "        #filename = ipfile.split('.')[0] + '_mask.' + ipfile.split('.')[1]\n",
    "        #print(filename)\n",
    "        cv2.imwrite(filename, img) \n",
    " \n",
    "    # if the 'c' key is pressed, break from the loop\n",
    "    elif key == ord(\"c\"):\n",
    "        break\n",
    "# if there are two reference points, then crop the region of interest\n",
    "# from the image and display it\n",
    "if len(refPt) == 2:\n",
    "    roi = clone[refPt[0][1]:refPt[1][1], refPt[0][0]:refPt[1][0]]\n",
    "    cv2.imshow(\"ROI\", roi)\n",
    "    \n",
    "\n",
    "# close all open windows\n",
    "cv2.waitKey(0)\n",
    "cv2.destroyAllWindows()"
   ]
  },
  {
   "cell_type": "code",
   "execution_count": null,
   "metadata": {},
   "outputs": [],
   "source": [
    "cv.SaveImage(filename, image) "
   ]
  }
 ],
 "metadata": {
  "kernelspec": {
   "display_name": "Python 3",
   "language": "python",
   "name": "python3"
  },
  "language_info": {
   "codemirror_mode": {
    "name": "ipython",
    "version": 3
   },
   "file_extension": ".py",
   "mimetype": "text/x-python",
   "name": "python",
   "nbconvert_exporter": "python",
   "pygments_lexer": "ipython3",
   "version": "3.7.3"
  }
 },
 "nbformat": 4,
 "nbformat_minor": 2
}
