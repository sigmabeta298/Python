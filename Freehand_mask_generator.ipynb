{
 "cells": [
  {
   "cell_type": "markdown",
   "metadata": {},
   "source": [
    "## Tool to generate freehand image masks\n",
    "##### __Author__: Syamanthaka B\n",
    "##### __Date created__: 6th Aug 2019\n",
    "##### __Last modified__: 6th Aug 2019\n",
    "-------------------------------------------------------------------------------------\n",
    "\n",
    "##### Libraries required"
   ]
  },
  {
   "cell_type": "code",
   "execution_count": null,
   "metadata": {},
   "outputs": [],
   "source": [
    "import argparse\n",
    "import cv2\n",
    "import numpy as np\n",
    "import random as rng\n",
    "import matplotlib.pyplot as plt\n",
    "%matplotlib inline"
   ]
  },
  {
   "cell_type": "markdown",
   "metadata": {},
   "source": [
    "#### Function to fill black in a free hand way, over a potential ROI"
   ]
  },
  {
   "cell_type": "code",
   "execution_count": null,
   "metadata": {},
   "outputs": [],
   "source": [
    "drawing=False # true if mouse is pressed\n",
    "ref_pt = []\n",
    "# mouse callback function\n",
    "def freehand_draw(event,former_x,former_y,flags,param):\n",
    "    global current_former_x,current_former_y,drawing, mode\n",
    "\n",
    "    if event==cv2.EVENT_LBUTTONDOWN:\n",
    "        drawing=True\n",
    "        current_former_x,current_former_y=former_x,former_y\n",
    "    elif event==cv2.EVENT_MOUSEMOVE:\n",
    "        if drawing==True:\n",
    "            cv2.line(image,(current_former_x,current_former_y),(former_x,former_y),(0,0,0),2)\n",
    "            cv2.drawContours(image, (current_former_x,current_former_y), -1, (0,255,0), 3)\n",
    "\n",
    "            current_former_x = former_x\n",
    "            current_former_y = former_y\n",
    "    elif event==cv2.EVENT_LBUTTONUP:\n",
    "        drawing=False\n",
    "        cv2.line(image,(current_former_x,current_former_y),(former_x,former_y),(0,0,0),2)\n",
    "        current_former_x = former_x\n",
    "        current_former_y = former_y\n",
    "\n",
    "    return former_x,former_y    "
   ]
  },
  {
   "cell_type": "markdown",
   "metadata": {},
   "source": [
    "#### Draw and press key 'p' to get mask"
   ]
  },
  {
   "cell_type": "code",
   "execution_count": null,
   "metadata": {},
   "outputs": [],
   "source": [
    "img_filepath = 'data/membrane/train/image/'\n",
    "mask_filepath = 'data/membrane/train/label/'\n",
    "ipfile_name = '29.png'\n",
    "ipfile = img_filepath + ipfile_name\n",
    "image = cv2.imread(ipfile)\n",
    "clone = image.copy()\n",
    "\n",
    "cv2.namedWindow(\"Freehand\")\n",
    "cv2.setMouseCallback('Freehand',freehand_draw)\n",
    "\n",
    "while(1):\n",
    "    cv2.imshow('Freehand',image)\n",
    "    key =cv2.waitKey(1)&0xFF\n",
    "    if key == ord(\"q\"):\n",
    "        break\n",
    "    elif key == ord(\"p\"):\n",
    "        retval, threshold = cv2.threshold(image, 0, 255, cv2.THRESH_BINARY_INV)\n",
    "        cv2.imshow('threshold',threshold)    \n",
    "    elif key == ord(\"s\"):\n",
    "        filename = mask_filepath + ipfile_name\n",
    "        cv2.imwrite(filename, threshold) \n",
    "\n",
    "cv2.destroyAllWindows()"
   ]
  },
  {
   "cell_type": "code",
   "execution_count": null,
   "metadata": {},
   "outputs": [],
   "source": [
    "img = np.zeros((512, 512, 3), np.uint8)\n",
    "im2, contours, hierarchy = cv2.StartFindContours_Impl(img,cv2.RETR_TREE,cv2.CHAIN_APPROX_NONE)\n",
    "print(contours)"
   ]
  },
  {
   "cell_type": "code",
   "execution_count": null,
   "metadata": {},
   "outputs": [],
   "source": [
    "im = cv2.imread(\"0test.png\")\n",
    "img = np.zeros((512, 512, 3), np.uint8)\n",
    "contours = cv2.findContours(img, cv2.RETR_TREE, cv2.CHAIN_APPROX_NONE)\n",
    "#cv2.rectangle(img,(320,269),(389,319),(255,255,255),-1)\n",
    "cv2.rectangle(img,refPt[0],refPt[1],(255,255,255),-1)\n",
    "plt.imshow(img)\n",
    "plt.show()"
   ]
  }
 ],
 "metadata": {
  "kernelspec": {
   "display_name": "Python 3",
   "language": "python",
   "name": "python3"
  },
  "language_info": {
   "codemirror_mode": {
    "name": "ipython",
    "version": 3
   },
   "file_extension": ".py",
   "mimetype": "text/x-python",
   "name": "python",
   "nbconvert_exporter": "python",
   "pygments_lexer": "ipython3",
   "version": "3.7.3"
  }
 },
 "nbformat": 4,
 "nbformat_minor": 2
}
