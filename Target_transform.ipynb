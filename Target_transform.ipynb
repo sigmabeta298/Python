{
 "cells": [
  {
   "cell_type": "code",
   "execution_count": null,
   "metadata": {},
   "outputs": [],
   "source": [
    "import pandas as pd\n",
    "## Import OIT Target info\n",
    "df = pd.read_excel(\"../Data_For_Tableau/Target_Ref2019.xlsx\", sheet_name = \"OIT_Target\")\n",
    "df"
   ]
  },
  {
   "cell_type": "code",
   "execution_count": null,
   "metadata": {},
   "outputs": [],
   "source": [
    "## Convert from Wide to Long format\n",
    "oit_long = pd.melt(df, id_vars=['Region'], var_name='Quarter', value_name='OIT_QTarget')\n",
    "oit_long.head()"
   ]
  },
  {
   "cell_type": "code",
   "execution_count": null,
   "metadata": {},
   "outputs": [],
   "source": [
    "## Create Quarter - Month break up DataFrame for referece\n",
    "q_m_df = pd.DataFrame([{'Quarter' : 'Q1', 'Month' : 'Jan,Feb,Mar'},\n",
    "                    {'Quarter' : 'Q2', 'Month' : 'Apr,May,Jun'},\n",
    "                    {'Quarter' : 'Q3', 'Month' : 'Jul,Aug,Sep'},\n",
    "                    {'Quarter' : 'Q4', 'Month' : 'Oct,Nov,Dec'}\n",
    "                   ])\n",
    "q_m_df"
   ]
  },
  {
   "cell_type": "code",
   "execution_count": null,
   "metadata": {},
   "outputs": [],
   "source": [
    "## Join Quarter month mapping to OIT df to get month CSV\n",
    "oit_long = pd.merge(oit_long, q_m_df, on='Quarter')\n",
    "oit_long.head()"
   ]
  },
  {
   "cell_type": "code",
   "execution_count": null,
   "metadata": {},
   "outputs": [],
   "source": [
    "## Split CSV month and expand each quarter to 3 months\n",
    "oit_long_expanded = pd.DataFrame(oit_long.Month.str.split(',').tolist(), index=[oit_long.Region, oit_long.Quarter, oit_long.OIT_QTarget]).stack()\n",
    "oit_long_expanded = oit_long_expanded.reset_index()[['Region', 'Quarter', 0, 'OIT_QTarget']]\n",
    "oit_long_expanded.columns = ['Region', 'Quarter', 'Month', 'OIT_QTarget']\n",
    "oit_long_expanded.head()"
   ]
  },
  {
   "cell_type": "code",
   "execution_count": null,
   "metadata": {},
   "outputs": [],
   "source": [
    "## Allocationg a 30-30-40 split for each month in a quarter\n",
    "oit_long_expanded['Monthly_alloc'] = [0.4 if x in [\"Mar\",\"Jun\", \"Sep\", \"Dec\"] else 0.3 for x in oit_long_expanded['Month']]\n",
    "oit_long_expanded.head()"
   ]
  },
  {
   "cell_type": "code",
   "execution_count": null,
   "metadata": {},
   "outputs": [],
   "source": [
    "## Calculating monthly target by multiplying quaterly target provided originally, with monthly allocation percentage\n",
    "oit_long_expanded['OIT_MTarget'] = oit_long_expanded.OIT_QTarget * oit_long_expanded.Monthly_alloc\n",
    "oit_long_expanded.head()"
   ]
  },
  {
   "cell_type": "code",
   "execution_count": null,
   "metadata": {},
   "outputs": [],
   "source": [
    "df1 = pd.read_excel(\"../Data_For_Tableau/Target_Ref2019.xlsx\", sheet_name = \"Sales_Target\")\n",
    "df1"
   ]
  },
  {
   "cell_type": "code",
   "execution_count": null,
   "metadata": {},
   "outputs": [],
   "source": [
    "sales_long = pd.melt(df1, id_vars=['Region'], var_name='Quarter', value_name='Sales_QTarget')\n",
    "sales_long.head()"
   ]
  },
  {
   "cell_type": "code",
   "execution_count": null,
   "metadata": {},
   "outputs": [],
   "source": [
    "sales_long = pd.merge(sales_long, q_m_df, on='Quarter')\n",
    "sales_long.head()"
   ]
  },
  {
   "cell_type": "code",
   "execution_count": null,
   "metadata": {},
   "outputs": [],
   "source": [
    "sales_long_expanded = pd.DataFrame(sales_long.Month.str.split(',').tolist(), index=[sales_long.Region, sales_long.Quarter, sales_long.Sales_QTarget]).stack()\n",
    "sales_long_expanded = sales_long_expanded.reset_index()[['Region', 'Quarter', 0, 'Sales_QTarget']]\n",
    "sales_long_expanded.columns = ['Region', 'Quarter', 'Month', 'Sales_QTarget']\n",
    "sales_long_expanded.head()"
   ]
  },
  {
   "cell_type": "code",
   "execution_count": null,
   "metadata": {},
   "outputs": [],
   "source": [
    "sales_long_expanded['Monthly_alloc'] = [0.4 if x in [\"Mar\",\"Jun\", \"Sep\", \"Dec\"] else 0.3 for x in sales_long_expanded['Month']]\n",
    "sales_long_expanded.head()"
   ]
  },
  {
   "cell_type": "code",
   "execution_count": null,
   "metadata": {},
   "outputs": [],
   "source": [
    "sales_long_expanded['Sales_MTarget'] = sales_long_expanded.Sales_QTarget * sales_long_expanded.Monthly_alloc\n",
    "sales_long_expanded.head()"
   ]
  },
  {
   "cell_type": "code",
   "execution_count": null,
   "metadata": {},
   "outputs": [],
   "source": [
    "## Merge OIT and Sales targets to single df\n",
    "targets_df = pd.merge(oit_long_expanded, sales_long_expanded, on=['Region','Quarter', 'Month', 'Monthly_alloc'])\n",
    "targets_df.head()"
   ]
  },
  {
   "cell_type": "code",
   "execution_count": null,
   "metadata": {},
   "outputs": [],
   "source": []
  }
 ],
 "metadata": {
  "kernelspec": {
   "display_name": "Python 3",
   "language": "python",
   "name": "python3"
  },
  "language_info": {
   "codemirror_mode": {
    "name": "ipython",
    "version": 3
   },
   "file_extension": ".py",
   "mimetype": "text/x-python",
   "name": "python",
   "nbconvert_exporter": "python",
   "pygments_lexer": "ipython3",
   "version": "3.7.1"
  }
 },
 "nbformat": 4,
 "nbformat_minor": 2
}
