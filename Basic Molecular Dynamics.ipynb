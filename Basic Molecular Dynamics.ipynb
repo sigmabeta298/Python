{
 "cells": [
  {
   "cell_type": "markdown",
   "metadata": {},
   "source": [
    "# Basic Molecular Dynamics \n",
    "\n",
    "This notebook gives some structural information, and a 3D visualization without the need for any softwares like PyMol etc. \n",
    "\n",
    "It is mandatory to run the imports and load the pdb file input sections first! After this, it is possible to run any of the numbered sections listed below, independentantly. Simply click on the index links and run the cells under that section. \n",
    "\n",
    "-----------------------------------------------------------------------------\n",
    "\n",
    "# Table of Contents\n",
    "* [Mandatory imports](#Imports)\n",
    "* [Load pdb file](#Load-input)\n",
    "\n",
    "\n",
    "------------------------------------------\n",
    "1. [Start and End residues](#Start-and-End-residues)\n",
    "2. [Radius of gyration](#Radius-of-gyration)\n",
    "3. [Salt Bridges](#Salt-bridges)\n",
    "4. [3D View](#3D)\n",
    "5. [Stability Simulation](#Stability-Simulations)\n",
    "6. [Neighbors](#Neighbors)\n",
    "\n",
    "------------------------------------------------\n",
    "\n",
    "## Imports\n"
   ]
  },
  {
   "cell_type": "code",
   "execution_count": 1,
   "metadata": {},
   "outputs": [],
   "source": [
    "import warnings\n",
    "warnings.filterwarnings(\"ignore\")\n",
    "\n",
    "import MDAnalysis as mda\n",
    "from MDAnalysis.lib import distances\n",
    "import nglview as nv\n",
    "\n",
    "import numpy as np\n",
    "\n",
    "\n",
    "import matplotlib.pyplot as plt\n",
    "%matplotlib inline\n",
    "plt.matplotlib.style.use(\"ggplot\")"
   ]
  },
  {
   "cell_type": "markdown",
   "metadata": {},
   "source": [
    "## Load input"
   ]
  },
  {
   "cell_type": "code",
   "execution_count": 2,
   "metadata": {},
   "outputs": [],
   "source": [
    "u = mda.Universe('Data_files/GH26.pdb')"
   ]
  },
  {
   "cell_type": "markdown",
   "metadata": {},
   "source": [
    "## Start and End residues"
   ]
  },
  {
   "cell_type": "code",
   "execution_count": null,
   "metadata": {},
   "outputs": [],
   "source": [
    "n_term = u.select_atoms('segid A and name N')[0]\n",
    "c_term = u.select_atoms('segid A and name C')[-1]\n",
    "print(\"Starts at : \", n_term.resid, n_term.resname)\n",
    "print(\"Ends at : \", c_term.resid, c_term.resname)"
   ]
  },
  {
   "cell_type": "markdown",
   "metadata": {},
   "source": [
    "## Radius of gyration"
   ]
  },
  {
   "cell_type": "code",
   "execution_count": null,
   "metadata": {},
   "outputs": [],
   "source": [
    "bb = u.select_atoms('protein and backbone')\n",
    "r = c_term.position - n_term.position\n",
    "d = np.linalg.norm(r)\n",
    "rgyr = bb.radius_of_gyration()\n",
    "print(\"End to end distance = %f Angstroem\" %(d))\n",
    "print(\"Radius of gyration = %f Angstroem\" % (rgyr))"
   ]
  },
  {
   "cell_type": "markdown",
   "metadata": {},
   "source": [
    "## Salt bridges"
   ]
  },
  {
   "cell_type": "code",
   "execution_count": 3,
   "metadata": {},
   "outputs": [],
   "source": [
    "def get_contact_residues(acidic, basic, dmax=3.5):\n",
    "    \"\"\"Find all residues for which acidics are within dmax of basics.\"\"\"\n",
    "\n",
    "    dist = distances.distance_array(acidic.positions, basic.positions)\n",
    "    exposed_atoms = np.any(dist <= dmax, axis=1)\n",
    "    return acidic[exposed_atoms].residues"
   ]
  },
  {
   "cell_type": "code",
   "execution_count": null,
   "metadata": {},
   "outputs": [],
   "source": [
    "from scipy import stats\n",
    "print(stats.describe(salt_bridges))\n",
    "print(stat.describe_salt(bridges))\n",
    "this section describes what happens when salt bridges are established bewtee"
   ]
  },
  {
   "cell_type": "code",
   "execution_count": null,
   "metadata": {},
   "outputs": [],
   "source": [
    "len(salt_bridges)"
   ]
  },
  {
   "cell_type": "code",
   "execution_count": 4,
   "metadata": {},
   "outputs": [
    {
     "name": "stdout",
     "output_type": "stream",
     "text": [
      "43  acidic residues found\n",
      "33  basic residues found\n"
     ]
    }
   ],
   "source": [
    "CA = u.select_atoms(\"protein and name CA\") \n",
    "\n",
    "acidics = CA.select_atoms(\"resname ASP GLU\")\n",
    "print(acidics.n_residues, \" acidic residues found\")\n",
    "basics = CA.select_atoms(\"resname LYS ARG\")\n",
    "print(basics.n_residues, \" basic residues found\")\n"
   ]
  },
  {
   "cell_type": "code",
   "execution_count": 6,
   "metadata": {},
   "outputs": [
    {
     "data": {
      "text/plain": [
       "[]"
      ]
     },
     "execution_count": 6,
     "metadata": {},
     "output_type": "execute_result"
    }
   ],
   "source": [
    "salt_bridges = get_contact_residues(acidics, basics, dmax=3.5) #Alter dmax value if required\n",
    "list(salt_bridges)"
   ]
  },
  {
   "cell_type": "code",
   "execution_count": null,
   "metadata": {},
   "outputs": [],
   "source": [
    "from MDAnalysis.analysis import contacts\n",
    "sel_acs = \"(resname ARG LYS) and (name NH* NZ)\"\n",
    "sel_bcs = \"(resname ASP GLU) and (name OE* OD*)\"\n",
    "\n",
    "acs = u1.select_atoms(sel_acs)\n",
    "bcs = u1.select_atoms(sel_bcs)\n",
    "cal1 = contacts.Contacts(u1, selection=(sel_acs, sel_bcs), refgroup=(acs, bcs), radius=6.0)\n",
    "cal1.run()\n"
   ]
  },
  {
   "cell_type": "code",
   "execution_count": null,
   "metadata": {},
   "outputs": [],
   "source": [
    "plt.plot(cal1.timeseries[:,0], cal1.timeseries[:,1])"
   ]
  },
  {
   "cell_type": "markdown",
   "metadata": {},
   "source": [
    "## 3D"
   ]
  },
  {
   "cell_type": "code",
   "execution_count": null,
   "metadata": {},
   "outputs": [],
   "source": [
    "w = nv.show_mdanalysis(u)\n",
    "w"
   ]
  },
  {
   "cell_type": "markdown",
   "metadata": {},
   "source": [
    "## Stability Simulations\n",
    "\n",
    "P.S. This only works if you have a multi frame pdb file as your input.\n",
    "\n",
    "The output is a graph which shows the radius of gyration in Angstroem unit for each frame. \n",
    "Interpretation is that the less change in Radius of gyration over time indicates more stability of the molecule,"
   ]
  },
  {
   "cell_type": "code",
   "execution_count": null,
   "metadata": {},
   "outputs": [],
   "source": [
    "u1 = mda.Universe('Data_files/movie.pdb') #Input multi frame pdb file\n",
    "bb1 = u1.select_atoms('protein and backbone')\n",
    "\n",
    "results = np.zeros((bb1.atoms.universe.trajectory.n_frames, 2))\n",
    "for i, ts in enumerate(bb1.atoms.universe.trajectory):\n",
    "    rgyr = bb1.radius_of_gyration()\n",
    "    results[i, :] = (ts.time, rgyr)"
   ]
  },
  {
   "cell_type": "code",
   "execution_count": null,
   "metadata": {},
   "outputs": [],
   "source": [
    "plt.plot(results[:, 0], results[:, 1], label=\"Radius of gyration over time\")\n",
    "plt.xlabel(\"Time $t$ (ps)\")\n",
    "plt.ylabel(\"Radius of Gyration (Å)\")\n",
    "plt.legend(loc=\"best\");"
   ]
  },
  {
   "cell_type": "markdown",
   "metadata": {},
   "source": [
    "## Neighbors\n",
    "Coming soon....."
   ]
  },
  {
   "cell_type": "markdown",
   "metadata": {},
   "source": [
    "\n"
   ]
  }
 ],
 "metadata": {
  "gallery": {
   "commit": "028ae8fb-fc64-4a58-9955-01ad87d942e4",
   "filename": null,
   "link": "63121105-d6ad-41ac-b23d-e303ebbafaa2",
   "staging_id": "028ae8fb-fc64-4a58-9955-01ad87d942e4"
  },
  "kernelspec": {
   "display_name": "Python 3",
   "language": "python",
   "name": "python3"
  },
  "language_info": {
   "codemirror_mode": {
    "name": "ipython",
    "version": 3
   },
   "file_extension": ".py",
   "mimetype": "text/x-python",
   "name": "python",
   "nbconvert_exporter": "python",
   "pygments_lexer": "ipython3",
   "version": "3.5.5"
  }
 },
 "nbformat": 4,
 "nbformat_minor": 2
}
